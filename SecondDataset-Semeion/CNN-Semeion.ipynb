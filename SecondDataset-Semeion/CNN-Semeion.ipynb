{
 "cells": [
  {
   "cell_type": "markdown",
   "id": "a172eaaf-68dd-443a-b268-d054fe5f26f6",
   "metadata": {},
   "source": [
    "# CNN "
   ]
  },
  {
   "cell_type": "markdown",
   "id": "d087925e-e8d8-4e71-9489-8d9a68ac9324",
   "metadata": {},
   "source": [
    "## 1. Preprocessing\n",
    "### 1.1 Imports"
   ]
  },
  {
   "cell_type": "code",
   "execution_count": 2,
   "id": "6c17fb2c-ee77-4d5b-90d9-3ee2ed4d2570",
   "metadata": {},
   "outputs": [],
   "source": [
    "import numpy as np\n",
    "import pandas as pd\n",
    "from PIL import Image\n",
    "import os\n",
    "# Ignore warning from tensorflow since the deprecation warning does not concern us\n",
    "os.environ['TF_CPP_MIN_LOG_LEVEL'] = '0'\n",
    "from matplotlib import pyplot as plt\n",
    "import tensorflow as tf\n",
    "from tensorflow import keras\n",
    "import keras_tuner\n",
    "from tensorflow.keras.models import Sequential\n",
    "from tensorflow.keras.layers import Conv2D, MaxPooling2D, Flatten, Dense\n",
    "from sklearn.model_selection import KFold\n",
    "from tensorflow.keras.utils import to_categorical\n",
    "from sklearn.metrics import confusion_matrix, f1_score\n",
    "import seaborn as sns\n",
    "\n"
   ]
  },
  {
   "cell_type": "markdown",
   "id": "8ec7bd86-e864-4dab-ad29-87ddd45663f3",
   "metadata": {},
   "source": [
    "### 1.2 Loading of preprocessed data"
   ]
  },
  {
   "cell_type": "code",
   "execution_count": 3,
   "id": "acb25adf-5043-4ea5-9fdd-61572e3be7a4",
   "metadata": {},
   "outputs": [],
   "source": [
    "# Load ground truth\n",
    "Ytrain = np.load('semeionTrainGT_preprocessed.npy')\n",
    "Ytest = np.load('semeionTestGT_preprocessed.npy')\n",
    "\n",
    "# Load data\n",
    "Xtrain = np.load('semeionTrainpics_preprocessed.npy')\n",
    "Xtest = np.load('semeionTestpics_preprocessed.npy')"
   ]
  },
  {
   "cell_type": "markdown",
   "id": "3d78f4e5-22d3-4ace-a08c-029b7a9175dd",
   "metadata": {},
   "source": [
    "### 1.3 Addtional necessary preprocessing for CNN"
   ]
  },
  {
   "cell_type": "markdown",
   "id": "b1fa58b4-f494-47fc-91f3-dd01abf64d91",
   "metadata": {},
   "source": [
    "Convert the class labels in Ytrain and Ytest into one-hot encoded format. One-hot encoding is a representation of categorical variables as binary vectors, where each index corresponds to a class and the corresponding entry is set to 1 to represent the class of the instance. \n",
    "\n",
    "For example: [3] -> [0,0,0,1,0,0,0,0,0,0]"
   ]
  },
  {
   "cell_type": "code",
   "execution_count": 4,
   "id": "ceaeee6b-92ca-4ff4-a19f-323fad94e640",
   "metadata": {},
   "outputs": [
    {
     "name": "stdout",
     "output_type": "stream",
     "text": [
      "(1274,)\n",
      "(1274, 10)\n"
     ]
    }
   ],
   "source": [
    "num_classes = 10\n",
    "print(Ytrain.shape)\n",
    "Ytrain = to_categorical(Ytrain, num_classes=num_classes)\n",
    "Ytest =  to_categorical(Ytest, num_classes=num_classes)\n",
    "print(Ytrain.shape)"
   ]
  },
  {
   "cell_type": "markdown",
   "id": "c254d3c7-fdff-4b28-9311-4361f0bdfdac",
   "metadata": {},
   "source": [
    "Reshape the the input pictures to the orginal shape in order to use them as an input for CNN"
   ]
  },
  {
   "cell_type": "code",
   "execution_count": 5,
   "id": "f1d94581-8a86-4c59-8ae0-f78a68b543f8",
   "metadata": {},
   "outputs": [],
   "source": [
    "x = 16\n",
    "y = 16\n",
    "Xtrain=Xtrain.reshape(Xtrain.shape[0],y,x)\n",
    "Xtest=Xtest.reshape(Xtest.shape[0],y,x)"
   ]
  },
  {
   "cell_type": "markdown",
   "id": "df99ca5b-b0da-4ffc-a8a0-d5eb0dfcc6d7",
   "metadata": {},
   "source": [
    "5-fold cross-validation, where the data is split into training and validation sets"
   ]
  },
  {
   "cell_type": "code",
   "execution_count": 6,
   "id": "a76409ab-0bbb-4f9c-bc3a-aef0a9b26a8d",
   "metadata": {},
   "outputs": [],
   "source": [
    "kf = KFold(n_splits=5, shuffle=True, random_state=1)\n",
    "for fold, (train_index, val_index) in enumerate(kf.split(Xtrain, Ytrain)):\n",
    "    X_train_fold, X_val_fold = Xtrain[train_index], Xtrain[val_index]\n",
    "    Y_train_fold, Y_val_fold = Ytrain[train_index], Ytrain[val_index]"
   ]
  },
  {
   "cell_type": "markdown",
   "id": "b6da96d9-9f4d-49a8-b3f6-493d07734a5e",
   "metadata": {},
   "source": [
    "## 2. Training\n",
    "### 2.1 First dummy model"
   ]
  },
  {
   "cell_type": "markdown",
   "id": "569d078e-c087-4e1b-9488-b428917686db",
   "metadata": {},
   "source": [
    "Method to create a CNN according to the hyperparameters"
   ]
  },
  {
   "cell_type": "code",
   "execution_count": 7,
   "id": "47b52dca-2cfe-427b-8219-a83211a2061a",
   "metadata": {},
   "outputs": [],
   "source": [
    "def create_cnn_model(filters=16, kernel_size=(3, 3), pool_size=(2, 2), dense_units=64, learning_rate=0.001,activation='relu'):\n",
    "    model = Sequential()\n",
    "    model.add(Conv2D(filters, kernel_size, activation='relu', input_shape=(input_shape)))\n",
    "    model.add(MaxPooling2D(pool_size=pool_size))\n",
    "    model.add(Flatten())\n",
    "    model.add(Dense(dense_units, activation=activation))\n",
    "    model.add(Dense(num_classes, activation='softmax'))\n",
    "    \n",
    "    model.compile(optimizer='adam', loss='categorical_crossentropy', metrics=['accuracy'])\n",
    "    \n",
    "    return model"
   ]
  },
  {
   "cell_type": "markdown",
   "id": "41c1abae-7afb-4064-b7cc-87526074896d",
   "metadata": {},
   "source": [
    "Specify the input shape, create a dummy CNN model and train it on the training fold with corresponding labels for 10 epochs, using the validation fold for validation during training"
   ]
  },
  {
   "cell_type": "code",
   "execution_count": 9,
   "id": "dcb31d4c-d8ab-4aa5-b409-28a6f94c2827",
   "metadata": {},
   "outputs": [
    {
     "name": "stdout",
     "output_type": "stream",
     "text": [
      "Epoch 1/10\n",
      "32/32 [==============================] - 3s 30ms/step - loss: 1.8291 - accuracy: 0.4647 - val_loss: 1.2272 - val_accuracy: 0.6850\n",
      "Epoch 2/10\n",
      "32/32 [==============================] - 0s 9ms/step - loss: 0.8412 - accuracy: 0.8020 - val_loss: 0.6441 - val_accuracy: 0.8189\n",
      "Epoch 3/10\n",
      "32/32 [==============================] - 0s 12ms/step - loss: 0.4555 - accuracy: 0.8775 - val_loss: 0.4719 - val_accuracy: 0.8661\n",
      "Epoch 4/10\n",
      "32/32 [==============================] - 0s 11ms/step - loss: 0.3205 - accuracy: 0.9167 - val_loss: 0.4347 - val_accuracy: 0.8701\n",
      "Epoch 5/10\n",
      "32/32 [==============================] - 0s 12ms/step - loss: 0.2392 - accuracy: 0.9333 - val_loss: 0.3661 - val_accuracy: 0.8858\n",
      "Epoch 6/10\n",
      "32/32 [==============================] - 0s 12ms/step - loss: 0.1953 - accuracy: 0.9480 - val_loss: 0.3445 - val_accuracy: 0.8976\n",
      "Epoch 7/10\n",
      "32/32 [==============================] - 0s 10ms/step - loss: 0.1544 - accuracy: 0.9627 - val_loss: 0.3116 - val_accuracy: 0.9094\n",
      "Epoch 8/10\n",
      "32/32 [==============================] - 0s 10ms/step - loss: 0.1260 - accuracy: 0.9735 - val_loss: 0.3030 - val_accuracy: 0.9094\n",
      "Epoch 9/10\n",
      "32/32 [==============================] - 0s 12ms/step - loss: 0.0990 - accuracy: 0.9814 - val_loss: 0.3084 - val_accuracy: 0.9094\n",
      "Epoch 10/10\n",
      "32/32 [==============================] - 0s 13ms/step - loss: 0.0895 - accuracy: 0.9863 - val_loss: 0.3158 - val_accuracy: 0.9134\n"
     ]
    },
    {
     "data": {
      "text/plain": [
       "<keras.src.callbacks.History at 0x240ea6154d0>"
      ]
     },
     "execution_count": 9,
     "metadata": {},
     "output_type": "execute_result"
    }
   ],
   "source": [
    "input_shape = (y, x,1)  \n",
    "cnn_model = create_cnn_model()\n",
    "cnn_model.fit(X_train_fold, Y_train_fold,epochs=10,validation_data=(X_val_fold, Y_val_fold))"
   ]
  },
  {
   "cell_type": "markdown",
   "id": "9a7c1e0d-1e03-42f9-ba8f-34daa51c55c4",
   "metadata": {},
   "source": [
    "### 2.2 Hyperparameter Tuning using cross validation"
   ]
  },
  {
   "cell_type": "markdown",
   "id": "38c7a297-9405-4200-a893-6cf4000c1a24",
   "metadata": {},
   "source": [
    "build_model takes hyperparameters and creates a CNN model using these hyperparameter values. The hyperparameters are sampled within specified ranges and the function is called with a HyperParameters instance to build the CNN model with tunable hyperparameters. The resulting model can be used for hyperparameter tuning"
   ]
  },
  {
   "cell_type": "code",
   "execution_count": 10,
   "id": "378d7210-73b1-4182-a70b-43746dabe883",
   "metadata": {},
   "outputs": [
    {
     "data": {
      "text/plain": [
       "<keras.src.engine.sequential.Sequential at 0x240ea648f90>"
      ]
     },
     "execution_count": 10,
     "metadata": {},
     "output_type": "execute_result"
    }
   ],
   "source": [
    "\n",
    "def build_model(hp):\n",
    "    # Define the range for each hyperparameter\n",
    "    units = hp.Int(\"units\", min_value=32, max_value=512, step=32)\n",
    "    activation = hp.Choice(\"activation\", [\"relu\", \"tanh\"])\n",
    "    lr = hp.Float(\"lr\", min_value=1e-4, max_value=1e-2, sampling=\"log\")\n",
    "    filters = hp.Int(\"filters\", min_value=8, max_value=64, step=8)\n",
    "    kernel_size_1 = hp.Int(\"kernel_size_1\", min_value=2, max_value=5)\n",
    "    kernel_size_2 = hp.Int(\"kernel_size_2\", min_value=2, max_value=5)\n",
    "    pool_size_1 = hp.Int(\"pool_size_1\", min_value=2, max_value=4)\n",
    "    pool_size_2 = hp.Int(\"pool_size_2\", min_value=2, max_value=4)\n",
    "    \n",
    "    # call existing cnn creating code with the hyperparameter values.\n",
    "    model=create_cnn_model(filters=filters, kernel_size=(kernel_size_1, kernel_size_2), pool_size=(pool_size_1, pool_size_2), dense_units=units, learning_rate=lr,activation=activation)\n",
    "    return model\n",
    "\n",
    "\n",
    "build_model(keras_tuner.HyperParameters())\n"
   ]
  },
  {
   "cell_type": "markdown",
   "id": "aefed7d7-530e-4e19-9485-7691715eab07",
   "metadata": {},
   "source": [
    "Random search hyperparameter tuning process. The tuning aims to optimize the CNN model built by the build_model function for validation accuracy over a maximum of 30 trials, each executed twice. The results, configurations, and trained models are stored in a directory named \"Hyper Parameter Tuning\" under the project name \"CNN\". The tuner then conducts the search using training and validation data."
   ]
  },
  {
   "cell_type": "code",
   "execution_count": 11,
   "id": "56a5fe81-1e94-4c47-b76f-ba439806de96",
   "metadata": {},
   "outputs": [
    {
     "name": "stdout",
     "output_type": "stream",
     "text": [
      "Trial 30 Complete [00h 00m 16s]\n",
      "val_accuracy: 0.9488189220428467\n",
      "\n",
      "Best val_accuracy So Far: 0.9547244310379028\n",
      "Total elapsed time: 00h 07m 35s\n",
      "The best hyperparameters: <keras_tuner.src.engine.hyperparameters.hyperparameters.HyperParameters object at 0x00000240FF580C90>\n"
     ]
    }
   ],
   "source": [
    "tuner = keras_tuner.RandomSearch(\n",
    "    hypermodel=build_model,\n",
    "    objective=\"val_accuracy\", #optimize accuracy of the valdiation data\n",
    "    max_trials=30, #try 30 different parameter combinations\n",
    "    seed=1,\n",
    "    executions_per_trial=2, #execute every combination twice\n",
    "    overwrite=True,\n",
    "    directory=\"Hyper Parameter Tuning\",\n",
    "    project_name=\"CNN\",\n",
    ")\n",
    "tuner.search(X_train_fold, Y_train_fold, epochs=10, validation_data=(X_val_fold, Y_val_fold))\n",
    "print(\"The best hyperparameters:\",tuner.get_best_hyperparameters()[0])"
   ]
  },
  {
   "cell_type": "markdown",
   "id": "cd8e9259-3ba7-4fb4-a0f9-2da07d8e804e",
   "metadata": {},
   "source": [
    "Take the best model which optimized the validation accuracy and train it with 50 epochs now."
   ]
  },
  {
   "cell_type": "code",
   "execution_count": 12,
   "id": "72d274cc-45e1-42d4-a974-46ff9ffa91ca",
   "metadata": {},
   "outputs": [
    {
     "name": "stdout",
     "output_type": "stream",
     "text": [
      "Epoch 1/50\n",
      "32/32 [==============================] - 3s 25ms/step - loss: 0.0591 - accuracy: 0.9941 - val_loss: 0.1929 - val_accuracy: 0.9488\n",
      "Epoch 2/50\n",
      "32/32 [==============================] - 0s 12ms/step - loss: 0.0512 - accuracy: 0.9961 - val_loss: 0.2044 - val_accuracy: 0.9488\n",
      "Epoch 3/50\n",
      "32/32 [==============================] - 0s 11ms/step - loss: 0.0424 - accuracy: 0.9971 - val_loss: 0.1760 - val_accuracy: 0.9646\n",
      "Epoch 4/50\n",
      "32/32 [==============================] - 0s 12ms/step - loss: 0.0351 - accuracy: 1.0000 - val_loss: 0.1805 - val_accuracy: 0.9646\n",
      "Epoch 5/50\n",
      "32/32 [==============================] - 0s 12ms/step - loss: 0.0308 - accuracy: 1.0000 - val_loss: 0.1756 - val_accuracy: 0.9567\n",
      "Epoch 6/50\n",
      "32/32 [==============================] - 0s 12ms/step - loss: 0.0259 - accuracy: 1.0000 - val_loss: 0.1677 - val_accuracy: 0.9646\n",
      "Epoch 7/50\n",
      "32/32 [==============================] - 0s 12ms/step - loss: 0.0236 - accuracy: 1.0000 - val_loss: 0.1695 - val_accuracy: 0.9567\n",
      "Epoch 8/50\n",
      "32/32 [==============================] - 0s 12ms/step - loss: 0.0210 - accuracy: 1.0000 - val_loss: 0.1684 - val_accuracy: 0.9606\n",
      "Epoch 9/50\n",
      "32/32 [==============================] - 0s 11ms/step - loss: 0.0172 - accuracy: 1.0000 - val_loss: 0.1580 - val_accuracy: 0.9606\n",
      "Epoch 10/50\n",
      "32/32 [==============================] - 0s 12ms/step - loss: 0.0159 - accuracy: 1.0000 - val_loss: 0.1662 - val_accuracy: 0.9606\n",
      "Epoch 11/50\n",
      "32/32 [==============================] - 0s 12ms/step - loss: 0.0137 - accuracy: 1.0000 - val_loss: 0.1618 - val_accuracy: 0.9606\n",
      "Epoch 12/50\n",
      "32/32 [==============================] - 0s 12ms/step - loss: 0.0123 - accuracy: 1.0000 - val_loss: 0.1622 - val_accuracy: 0.9685\n",
      "Epoch 13/50\n",
      "32/32 [==============================] - 0s 12ms/step - loss: 0.0119 - accuracy: 1.0000 - val_loss: 0.1573 - val_accuracy: 0.9606\n",
      "Epoch 14/50\n",
      "32/32 [==============================] - 0s 11ms/step - loss: 0.0105 - accuracy: 1.0000 - val_loss: 0.1584 - val_accuracy: 0.9724\n",
      "Epoch 15/50\n",
      "32/32 [==============================] - 0s 12ms/step - loss: 0.0093 - accuracy: 1.0000 - val_loss: 0.1567 - val_accuracy: 0.9685\n",
      "Epoch 16/50\n",
      "32/32 [==============================] - 0s 11ms/step - loss: 0.0086 - accuracy: 1.0000 - val_loss: 0.1559 - val_accuracy: 0.9685\n",
      "Epoch 17/50\n",
      "32/32 [==============================] - 0s 12ms/step - loss: 0.0081 - accuracy: 1.0000 - val_loss: 0.1618 - val_accuracy: 0.9646\n",
      "Epoch 18/50\n",
      "32/32 [==============================] - 0s 12ms/step - loss: 0.0077 - accuracy: 1.0000 - val_loss: 0.1591 - val_accuracy: 0.9606\n",
      "Epoch 19/50\n",
      "32/32 [==============================] - 0s 10ms/step - loss: 0.0070 - accuracy: 1.0000 - val_loss: 0.1614 - val_accuracy: 0.9685\n",
      "Epoch 20/50\n",
      "32/32 [==============================] - 0s 11ms/step - loss: 0.0066 - accuracy: 1.0000 - val_loss: 0.1570 - val_accuracy: 0.9606\n",
      "Epoch 21/50\n",
      "32/32 [==============================] - 0s 12ms/step - loss: 0.0060 - accuracy: 1.0000 - val_loss: 0.1566 - val_accuracy: 0.9567\n",
      "Epoch 22/50\n",
      "32/32 [==============================] - 0s 12ms/step - loss: 0.0056 - accuracy: 1.0000 - val_loss: 0.1562 - val_accuracy: 0.9646\n",
      "Epoch 23/50\n",
      "32/32 [==============================] - 0s 13ms/step - loss: 0.0052 - accuracy: 1.0000 - val_loss: 0.1583 - val_accuracy: 0.9567\n",
      "Epoch 24/50\n",
      "32/32 [==============================] - 0s 11ms/step - loss: 0.0050 - accuracy: 1.0000 - val_loss: 0.1560 - val_accuracy: 0.9606\n",
      "Epoch 25/50\n",
      "32/32 [==============================] - 0s 14ms/step - loss: 0.0048 - accuracy: 1.0000 - val_loss: 0.1568 - val_accuracy: 0.9567\n",
      "Epoch 26/50\n",
      "32/32 [==============================] - 0s 12ms/step - loss: 0.0044 - accuracy: 1.0000 - val_loss: 0.1526 - val_accuracy: 0.9606\n",
      "Epoch 27/50\n",
      "32/32 [==============================] - 0s 12ms/step - loss: 0.0041 - accuracy: 1.0000 - val_loss: 0.1561 - val_accuracy: 0.9646\n",
      "Epoch 28/50\n",
      "32/32 [==============================] - 0s 13ms/step - loss: 0.0040 - accuracy: 1.0000 - val_loss: 0.1530 - val_accuracy: 0.9646\n",
      "Epoch 29/50\n",
      "32/32 [==============================] - 0s 12ms/step - loss: 0.0037 - accuracy: 1.0000 - val_loss: 0.1544 - val_accuracy: 0.9606\n",
      "Epoch 30/50\n",
      "32/32 [==============================] - 0s 13ms/step - loss: 0.0035 - accuracy: 1.0000 - val_loss: 0.1544 - val_accuracy: 0.9685\n",
      "Epoch 31/50\n",
      "32/32 [==============================] - 0s 12ms/step - loss: 0.0033 - accuracy: 1.0000 - val_loss: 0.1530 - val_accuracy: 0.9606\n",
      "Epoch 32/50\n",
      "32/32 [==============================] - 0s 12ms/step - loss: 0.0032 - accuracy: 1.0000 - val_loss: 0.1561 - val_accuracy: 0.9646\n",
      "Epoch 33/50\n",
      "32/32 [==============================] - 0s 13ms/step - loss: 0.0030 - accuracy: 1.0000 - val_loss: 0.1539 - val_accuracy: 0.9646\n",
      "Epoch 34/50\n",
      "32/32 [==============================] - 0s 11ms/step - loss: 0.0029 - accuracy: 1.0000 - val_loss: 0.1564 - val_accuracy: 0.9606\n",
      "Epoch 35/50\n",
      "32/32 [==============================] - 0s 15ms/step - loss: 0.0028 - accuracy: 1.0000 - val_loss: 0.1531 - val_accuracy: 0.9646\n",
      "Epoch 36/50\n",
      "32/32 [==============================] - 0s 13ms/step - loss: 0.0027 - accuracy: 1.0000 - val_loss: 0.1578 - val_accuracy: 0.9646\n",
      "Epoch 37/50\n",
      "32/32 [==============================] - 0s 13ms/step - loss: 0.0025 - accuracy: 1.0000 - val_loss: 0.1541 - val_accuracy: 0.9646\n",
      "Epoch 38/50\n",
      "32/32 [==============================] - 0s 12ms/step - loss: 0.0024 - accuracy: 1.0000 - val_loss: 0.1568 - val_accuracy: 0.9646\n",
      "Epoch 39/50\n",
      "32/32 [==============================] - 0s 11ms/step - loss: 0.0023 - accuracy: 1.0000 - val_loss: 0.1554 - val_accuracy: 0.9646\n",
      "Epoch 40/50\n",
      "32/32 [==============================] - 0s 12ms/step - loss: 0.0022 - accuracy: 1.0000 - val_loss: 0.1565 - val_accuracy: 0.9646\n",
      "Epoch 41/50\n",
      "32/32 [==============================] - 0s 12ms/step - loss: 0.0021 - accuracy: 1.0000 - val_loss: 0.1545 - val_accuracy: 0.9606\n",
      "Epoch 42/50\n",
      "32/32 [==============================] - 0s 12ms/step - loss: 0.0020 - accuracy: 1.0000 - val_loss: 0.1572 - val_accuracy: 0.9606\n",
      "Epoch 43/50\n",
      "32/32 [==============================] - 0s 12ms/step - loss: 0.0020 - accuracy: 1.0000 - val_loss: 0.1566 - val_accuracy: 0.9646\n",
      "Epoch 44/50\n",
      "32/32 [==============================] - 0s 11ms/step - loss: 0.0019 - accuracy: 1.0000 - val_loss: 0.1553 - val_accuracy: 0.9646\n",
      "Epoch 45/50\n",
      "32/32 [==============================] - 0s 10ms/step - loss: 0.0018 - accuracy: 1.0000 - val_loss: 0.1558 - val_accuracy: 0.9646\n",
      "Epoch 46/50\n",
      "32/32 [==============================] - 0s 12ms/step - loss: 0.0017 - accuracy: 1.0000 - val_loss: 0.1575 - val_accuracy: 0.9646\n",
      "Epoch 47/50\n",
      "32/32 [==============================] - 0s 12ms/step - loss: 0.0017 - accuracy: 1.0000 - val_loss: 0.1559 - val_accuracy: 0.9646\n",
      "Epoch 48/50\n",
      "32/32 [==============================] - 0s 12ms/step - loss: 0.0016 - accuracy: 1.0000 - val_loss: 0.1551 - val_accuracy: 0.9646\n",
      "Epoch 49/50\n",
      "32/32 [==============================] - 0s 12ms/step - loss: 0.0016 - accuracy: 1.0000 - val_loss: 0.1564 - val_accuracy: 0.9646\n",
      "Epoch 50/50\n",
      "32/32 [==============================] - 0s 11ms/step - loss: 0.0015 - accuracy: 1.0000 - val_loss: 0.1540 - val_accuracy: 0.9646\n"
     ]
    },
    {
     "data": {
      "text/plain": [
       "<keras.src.callbacks.History at 0x2409c64ced0>"
      ]
     },
     "execution_count": 12,
     "metadata": {},
     "output_type": "execute_result"
    }
   ],
   "source": [
    "bestmod=tuner.get_best_models(num_models=1)[0]\n",
    "bestmod.fit(X_train_fold, Y_train_fold,epochs=50,validation_data=(X_val_fold, Y_val_fold))"
   ]
  },
  {
   "cell_type": "markdown",
   "id": "0d5a2347-3129-48ab-a68f-e7f36a72a848",
   "metadata": {},
   "source": [
    "## 3. Testing and Evaluation"
   ]
  },
  {
   "cell_type": "markdown",
   "id": "7e5d1cfd-7514-451c-bd77-09eee3094e85",
   "metadata": {},
   "source": [
    "Compute the accuracy for the test data"
   ]
  },
  {
   "cell_type": "code",
   "execution_count": 13,
   "id": "9fcc256d-7673-4a29-918e-55b9bcec8aa4",
   "metadata": {},
   "outputs": [
    {
     "name": "stdout",
     "output_type": "stream",
     "text": [
      "Accuracy for the Test Dataset 0.9404388666152954\n"
     ]
    }
   ],
   "source": [
    "test_loss, test_acc = bestmod.evaluate(Xtest,  Ytest, verbose=0)\n",
    "print(\"Accuracy for the Test Dataset\",test_acc)"
   ]
  },
  {
   "cell_type": "markdown",
   "id": "3d335dd5-2fad-4aab-8b7b-0469346b0a74",
   "metadata": {},
   "source": [
    "Calculate the F1 score for each class and generates a confusion matrix based on the predictions and true labels. The F1 scores are printed for each class, and a heatmap of the confusion matrix is plotted."
   ]
  },
  {
   "cell_type": "code",
   "execution_count": 14,
   "id": "3e9b6cf6-2493-484f-8190-1effbc5eb1de",
   "metadata": {},
   "outputs": [
    {
     "name": "stdout",
     "output_type": "stream",
     "text": [
      "F1  [0.91525424 0.95081967 0.98550725 0.94285714 0.92753623 0.96428571\n",
      " 0.96296296 0.98412698 0.92307692 0.86111111] \n",
      "\n"
     ]
    }
   ],
   "source": [
    "Ytest_pred_probabilities=bestmod.predict(Xtest,verbose=0)\n",
    "Ytest_pred = np.argmax(Ytest_pred_probabilities, axis=1)\n",
    "Ytest_true=np.argmax(Ytest, axis=1)\n",
    "\n",
    "f1 = f1_score(Ytest_true, Ytest_pred, average=None)\n",
    "print(\"F1 \",f1,\"\\n\")"
   ]
  },
  {
   "cell_type": "code",
   "execution_count": 15,
   "id": "96d973da-522a-4a78-91e9-d7c4926d7b1c",
   "metadata": {
    "scrolled": true
   },
   "outputs": [
    {
     "data": {
      "image/png": "[encoded data removed]",
      "text/plain": [
       "<Figure size 800x600 with 2 Axes>"
      ]
     },
     "metadata": {},
     "output_type": "display_data"
    }
   ],
   "source": [
    "conf_matrix = confusion_matrix(Ytest_true, Ytest_pred)\n",
    "\n",
    "plt.figure(figsize=(8, 6))\n",
    "sns.heatmap(conf_matrix, annot=True, fmt='g', cmap='Blues', xticklabels=range(num_classes), yticklabels=range(num_classes))\n",
    "plt.xlabel('Predicted')\n",
    "plt.ylabel('True')\n",
    "plt.title('Confusion Matrix')\n",
    "plt.show()"
   ]
  }
 ],
 "metadata": {
  "kernelspec": {
   "display_name": "Python 3 (ipykernel)",
   "language": "python",
   "name": "python3"
  },
  "language_info": {
   "codemirror_mode": {
    "name": "ipython",
    "version": 3
   },
   "file_extension": ".py",
   "mimetype": "text/x-python",
   "name": "python",
   "nbconvert_exporter": "python",
   "pygments_lexer": "ipython3",
   "version": "3.11.5"
  }
 },
 "nbformat": 4,
 "nbformat_minor": 5
}
