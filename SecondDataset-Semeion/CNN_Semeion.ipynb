{
 "cells": [
  {
   "cell_type": "markdown",
   "id": "a172eaaf-68dd-443a-b268-d054fe5f26f6",
   "metadata": {},
   "source": [
    "# CNN "
   ]
  },
  {
   "cell_type": "markdown",
   "id": "d087925e-e8d8-4e71-9489-8d9a68ac9324",
   "metadata": {
    "jp-MarkdownHeadingCollapsed": true
   },
   "source": [
    "## 1. Preprocessing\n",
    "### 1.1 Imports"
   ]
  },
  {
   "cell_type": "code",
   "execution_count": 1,
   "id": "6c17fb2c-ee77-4d5b-90d9-3ee2ed4d2570",
   "metadata": {},
   "outputs": [
    {
     "name": "stdout",
     "output_type": "stream",
     "text": [
      "WARNING:tensorflow:From C:\\Users\\Reintjes\\AppData\\Roaming\\Python\\Python311\\site-packages\\keras\\src\\losses.py:2976: The name tf.losses.sparse_softmax_cross_entropy is deprecated. Please use tf.compat.v1.losses.sparse_softmax_cross_entropy instead.\n",
      "\n"
     ]
    }
   ],
   "source": [
    "import numpy as np\n",
    "import pandas as pd\n",
    "from PIL import Image\n",
    "import os\n",
    "from matplotlib import pyplot as plt\n",
    "import tensorflow as tf\n",
    "from tensorflow import keras\n",
    "import keras_tuner\n",
    "from tensorflow.keras.models import Sequential\n",
    "from tensorflow.keras.layers import Conv2D, MaxPooling2D, Flatten, Dense\n",
    "from sklearn.model_selection import KFold\n",
    "from tensorflow.keras.utils import to_categorical\n",
    "from sklearn.metrics import confusion_matrix, f1_score\n",
    "import seaborn as sns\n",
    "\n"
   ]
  },
  {
   "cell_type": "markdown",
   "id": "8ec7bd86-e864-4dab-ad29-87ddd45663f3",
   "metadata": {},
   "source": [
    "### 1.2 Loading of preprocessed data"
   ]
  },
  {
   "cell_type": "code",
   "execution_count": 2,
   "id": "acb25adf-5043-4ea5-9fdd-61572e3be7a4",
   "metadata": {},
   "outputs": [],
   "source": [
    "# Load ground truth\n",
    "Ytrain = np.load('semeionTrainGT_preprocessed.npy')\n",
    "Ytest = np.load('semeionTestGT_preprocessed.npy')\n",
    "\n",
    "# Load data\n",
    "Xtrain = np.load('semeionTrainpics_preprocessed.npy')\n",
    "Xtest = np.load('semeionTestpics_preprocessed.npy')"
   ]
  },
  {
   "cell_type": "markdown",
   "id": "3d78f4e5-22d3-4ace-a08c-029b7a9175dd",
   "metadata": {},
   "source": [
    "### 1.3 Addtional necessary preprocessing for CNN"
   ]
  },
  {
   "cell_type": "markdown",
   "id": "b1fa58b4-f494-47fc-91f3-dd01abf64d91",
   "metadata": {},
   "source": [
    "Convert the class labels in Ytrain and Ytest into one-hot encoded format. One-hot encoding is a representation of categorical variables as binary vectors, where each index corresponds to a class and the corresponding entry is set to 1 to represent the class of the instance. \n",
    "\n",
    "For example: [3] -> [0,0,0,1,0,0,0,0,0,0]"
   ]
  },
  {
   "cell_type": "code",
   "execution_count": 5,
   "id": "ceaeee6b-92ca-4ff4-a19f-323fad94e640",
   "metadata": {},
   "outputs": [
    {
     "name": "stdout",
     "output_type": "stream",
     "text": [
      "(1274,)\n",
      "(1274, 10)\n"
     ]
    }
   ],
   "source": [
    "num_classes = 10\n",
    "print(Ytrain.shape)\n",
    "Ytrain = to_categorical(Ytrain, num_classes=num_classes)\n",
    "Ytest =  to_categorical(Ytest, num_classes=num_classes)\n",
    "print(Ytrain.shape)"
   ]
  },
  {
   "cell_type": "markdown",
   "id": "c254d3c7-fdff-4b28-9311-4361f0bdfdac",
   "metadata": {},
   "source": [
    "Reshape the the input pictures to the orginal shape in order to use them as an input for CNN"
   ]
  },
  {
   "cell_type": "code",
   "execution_count": 22,
   "id": "f1d94581-8a86-4c59-8ae0-f78a68b543f8",
   "metadata": {},
   "outputs": [],
   "source": [
    "x = 16\n",
    "y = 16\n",
    "Xtrain=Xtrain.reshape(Xtrain.shape[0],y,x)\n",
    "Xtest=Xtest.reshape(Xtest.shape[0],y,x)"
   ]
  },
  {
   "cell_type": "markdown",
   "id": "df99ca5b-b0da-4ffc-a8a0-d5eb0dfcc6d7",
   "metadata": {},
   "source": [
    "5-fold cross-validation, where the data is split into training and validation sets"
   ]
  },
  {
   "cell_type": "code",
   "execution_count": 7,
   "id": "a76409ab-0bbb-4f9c-bc3a-aef0a9b26a8d",
   "metadata": {},
   "outputs": [],
   "source": [
    "kf = KFold(n_splits=5, shuffle=True, random_state=1)\n",
    "for fold, (train_index, val_index) in enumerate(kf.split(Xtrain, Ytrain)):\n",
    "    X_train_fold, X_val_fold = Xtrain[train_index], Xtrain[val_index]\n",
    "    Y_train_fold, Y_val_fold = Ytrain[train_index], Ytrain[val_index]"
   ]
  },
  {
   "cell_type": "markdown",
   "id": "b6da96d9-9f4d-49a8-b3f6-493d07734a5e",
   "metadata": {},
   "source": [
    "## 2. Training\n",
    "### 2.1 First dummy model"
   ]
  },
  {
   "cell_type": "markdown",
   "id": "569d078e-c087-4e1b-9488-b428917686db",
   "metadata": {},
   "source": [
    "Method to create a CNN according to the hyperparameters"
   ]
  },
  {
   "cell_type": "code",
   "execution_count": 8,
   "id": "47b52dca-2cfe-427b-8219-a83211a2061a",
   "metadata": {},
   "outputs": [],
   "source": [
    "def create_cnn_model(filters=16, kernel_size=(3, 3), pool_size=(2, 2), dense_units=64, learning_rate=0.001,activation='relu'):\n",
    "    model = Sequential()\n",
    "    model.add(Conv2D(filters, kernel_size, activation='relu', input_shape=(input_shape)))\n",
    "    model.add(MaxPooling2D(pool_size=pool_size))\n",
    "    model.add(Flatten())\n",
    "    model.add(Dense(dense_units, activation=activation))\n",
    "    model.add(Dense(num_classes, activation='softmax'))\n",
    "    \n",
    "    model.compile(optimizer='adam', loss='categorical_crossentropy', metrics=['accuracy'])\n",
    "    \n",
    "    return model"
   ]
  },
  {
   "cell_type": "markdown",
   "id": "41c1abae-7afb-4064-b7cc-87526074896d",
   "metadata": {},
   "source": [
    "Specify the input shape, create a dummy CNN model and train it on the training fold with corresponding labels for 10 epochs, using the validation fold for validation during training"
   ]
  },
  {
   "cell_type": "code",
   "execution_count": 10,
   "id": "dcb31d4c-d8ab-4aa5-b409-28a6f94c2827",
   "metadata": {},
   "outputs": [
    {
     "name": "stdout",
     "output_type": "stream",
     "text": [
      "WARNING:tensorflow:From C:\\Users\\Reintjes\\AppData\\Roaming\\Python\\Python311\\site-packages\\keras\\src\\layers\\pooling\\max_pooling2d.py:161: The name tf.nn.max_pool is deprecated. Please use tf.nn.max_pool2d instead.\n",
      "\n",
      "WARNING:tensorflow:From C:\\Users\\Reintjes\\AppData\\Roaming\\Python\\Python311\\site-packages\\keras\\src\\optimizers\\__init__.py:309: The name tf.train.Optimizer is deprecated. Please use tf.compat.v1.train.Optimizer instead.\n",
      "\n",
      "Epoch 1/10\n",
      "WARNING:tensorflow:From C:\\Users\\Reintjes\\AppData\\Roaming\\Python\\Python311\\site-packages\\keras\\src\\utils\\tf_utils.py:492: The name tf.ragged.RaggedTensorValue is deprecated. Please use tf.compat.v1.ragged.RaggedTensorValue instead.\n",
      "\n",
      "WARNING:tensorflow:From C:\\Users\\Reintjes\\AppData\\Roaming\\Python\\Python311\\site-packages\\keras\\src\\engine\\base_layer_utils.py:384: The name tf.executing_eagerly_outside_functions is deprecated. Please use tf.compat.v1.executing_eagerly_outside_functions instead.\n",
      "\n",
      "32/32 [==============================] - 4s 29ms/step - loss: 1.9224 - accuracy: 0.4676 - val_loss: 1.3462 - val_accuracy: 0.7283\n",
      "Epoch 2/10\n",
      "32/32 [==============================] - 0s 7ms/step - loss: 0.8631 - accuracy: 0.8108 - val_loss: 0.6035 - val_accuracy: 0.8268\n",
      "Epoch 3/10\n",
      "32/32 [==============================] - 0s 8ms/step - loss: 0.4075 - accuracy: 0.8833 - val_loss: 0.4508 - val_accuracy: 0.8740\n",
      "Epoch 4/10\n",
      "32/32 [==============================] - 0s 9ms/step - loss: 0.2761 - accuracy: 0.9216 - val_loss: 0.3660 - val_accuracy: 0.8898\n",
      "Epoch 5/10\n",
      "32/32 [==============================] - 0s 9ms/step - loss: 0.2049 - accuracy: 0.9402 - val_loss: 0.3335 - val_accuracy: 0.9173\n",
      "Epoch 6/10\n",
      "32/32 [==============================] - 0s 9ms/step - loss: 0.1518 - accuracy: 0.9618 - val_loss: 0.3142 - val_accuracy: 0.9291\n",
      "Epoch 7/10\n",
      "32/32 [==============================] - 0s 10ms/step - loss: 0.1224 - accuracy: 0.9686 - val_loss: 0.3095 - val_accuracy: 0.9173\n",
      "Epoch 8/10\n",
      "32/32 [==============================] - 0s 10ms/step - loss: 0.0975 - accuracy: 0.9863 - val_loss: 0.2798 - val_accuracy: 0.9252\n",
      "Epoch 9/10\n",
      "32/32 [==============================] - 0s 7ms/step - loss: 0.0774 - accuracy: 0.9853 - val_loss: 0.3302 - val_accuracy: 0.9134\n",
      "Epoch 10/10\n",
      "32/32 [==============================] - 0s 10ms/step - loss: 0.0680 - accuracy: 0.9902 - val_loss: 0.2836 - val_accuracy: 0.9252\n"
     ]
    },
    {
     "data": {
      "text/plain": [
       "<keras.src.callbacks.History at 0x20348b46190>"
      ]
     },
     "execution_count": 10,
     "metadata": {},
     "output_type": "execute_result"
    }
   ],
   "source": [
    "input_shape = (y, x,1)  \n",
    "cnn_model = create_cnn_model()\n",
    "cnn_model.fit(X_train_fold, Y_train_fold,epochs=10,validation_data=(X_val_fold, Y_val_fold))"
   ]
  },
  {
   "cell_type": "markdown",
   "id": "9a7c1e0d-1e03-42f9-ba8f-34daa51c55c4",
   "metadata": {},
   "source": [
    "### 2.2 Hyperparameter Tuning using cross validation"
   ]
  },
  {
   "cell_type": "markdown",
   "id": "38c7a297-9405-4200-a893-6cf4000c1a24",
   "metadata": {},
   "source": [
    "build_model takes hyperparameters and creates a CNN model using these hyperparameter values. The hyperparameters are sampled within specified ranges and the function is called with a HyperParameters instance to build the CNN model with tunable hyperparameters. The resulting model can be used for hyperparameter tuning"
   ]
  },
  {
   "cell_type": "code",
   "execution_count": 12,
   "id": "378d7210-73b1-4182-a70b-43746dabe883",
   "metadata": {},
   "outputs": [
    {
     "data": {
      "text/plain": [
       "<keras.src.engine.sequential.Sequential at 0x20348d7be90>"
      ]
     },
     "execution_count": 12,
     "metadata": {},
     "output_type": "execute_result"
    }
   ],
   "source": [
    "\n",
    "def build_model(hp):\n",
    "    # Define the range for each hyperparameter\n",
    "    units = hp.Int(\"units\", min_value=32, max_value=512, step=32)\n",
    "    activation = hp.Choice(\"activation\", [\"relu\", \"tanh\"])\n",
    "    lr = hp.Float(\"lr\", min_value=1e-4, max_value=1e-2, sampling=\"log\")\n",
    "    filters = hp.Int(\"filters\", min_value=8, max_value=64, step=8)\n",
    "    kernel_size_1 = hp.Int(\"kernel_size_1\", min_value=2, max_value=5)\n",
    "    kernel_size_2 = hp.Int(\"kernel_size_2\", min_value=2, max_value=5)\n",
    "    pool_size_1 = hp.Int(\"pool_size_1\", min_value=2, max_value=4)\n",
    "    pool_size_2 = hp.Int(\"pool_size_2\", min_value=2, max_value=4)\n",
    "    \n",
    "    # call existing cnn creating code with the hyperparameter values.\n",
    "    model=create_cnn_model(filters=filters, kernel_size=(kernel_size_1, kernel_size_2), pool_size=(pool_size_1, pool_size_2), dense_units=units, learning_rate=lr,activation=activation)\n",
    "    return model\n",
    "\n",
    "\n",
    "build_model(keras_tuner.HyperParameters())\n"
   ]
  },
  {
   "cell_type": "markdown",
   "id": "aefed7d7-530e-4e19-9485-7691715eab07",
   "metadata": {},
   "source": [
    "Random search hyperparameter tuning process. The tuning aims to optimize the CNN model built by the build_model function for validation accuracy over a maximum of 30 trials, each executed twice. The results, configurations, and trained models are stored in a directory named \"Hyper Parameter Tuning\" under the project name \"CNN\". The tuner then conducts the search using training and validation data."
   ]
  },
  {
   "cell_type": "code",
   "execution_count": 13,
   "id": "56a5fe81-1e94-4c47-b76f-ba439806de96",
   "metadata": {},
   "outputs": [
    {
     "name": "stdout",
     "output_type": "stream",
     "text": [
      "Trial 30 Complete [00h 00m 13s]\n",
      "val_accuracy: 0.9409448802471161\n",
      "\n",
      "Best val_accuracy So Far: 0.9547244310379028\n",
      "Total elapsed time: 00h 06m 37s\n"
     ]
    }
   ],
   "source": [
    "tuner = keras_tuner.RandomSearch(\n",
    "    hypermodel=build_model,\n",
    "    objective=\"val_accuracy\",\n",
    "    max_trials=30,\n",
    "    executions_per_trial=2,\n",
    "    overwrite=True,\n",
    "    directory=\"Hyper Parameter Tuning\",\n",
    "    project_name=\"CNN\",\n",
    ")\n",
    "tuner.search(X_train_fold, Y_train_fold, epochs=10, validation_data=(X_val_fold, Y_val_fold))\n",
    "print(\"The best hyperparameters:\",tuner.get_best_hyperparameters()[0])"
   ]
  },
  {
   "cell_type": "markdown",
   "id": "cd8e9259-3ba7-4fb4-a0f9-2da07d8e804e",
   "metadata": {},
   "source": [
    "Take the best model which optimized the validation accuracy and train it with 50 epochs now."
   ]
  },
  {
   "cell_type": "code",
   "execution_count": 15,
   "id": "72d274cc-45e1-42d4-a974-46ff9ffa91ca",
   "metadata": {},
   "outputs": [
    {
     "name": "stdout",
     "output_type": "stream",
     "text": [
      "Epoch 1/50\n",
      "32/32 [==============================] - 3s 26ms/step - loss: 0.0469 - accuracy: 0.9951 - val_loss: 0.2221 - val_accuracy: 0.9331\n",
      "Epoch 2/50\n",
      "32/32 [==============================] - 0s 14ms/step - loss: 0.0386 - accuracy: 0.9971 - val_loss: 0.2054 - val_accuracy: 0.9567\n",
      "Epoch 3/50\n",
      "32/32 [==============================] - 0s 11ms/step - loss: 0.0308 - accuracy: 0.9941 - val_loss: 0.2253 - val_accuracy: 0.9409\n",
      "Epoch 4/50\n",
      "32/32 [==============================] - 0s 12ms/step - loss: 0.0227 - accuracy: 0.9990 - val_loss: 0.2196 - val_accuracy: 0.9606\n",
      "Epoch 5/50\n",
      "32/32 [==============================] - 1s 19ms/step - loss: 0.0180 - accuracy: 1.0000 - val_loss: 0.2077 - val_accuracy: 0.9646\n",
      "Epoch 6/50\n",
      "32/32 [==============================] - 0s 10ms/step - loss: 0.0142 - accuracy: 1.0000 - val_loss: 0.2244 - val_accuracy: 0.9449\n",
      "Epoch 7/50\n",
      "32/32 [==============================] - 0s 12ms/step - loss: 0.0125 - accuracy: 1.0000 - val_loss: 0.2096 - val_accuracy: 0.9606\n",
      "Epoch 8/50\n",
      "32/32 [==============================] - 0s 10ms/step - loss: 0.0112 - accuracy: 1.0000 - val_loss: 0.2137 - val_accuracy: 0.9528\n",
      "Epoch 9/50\n",
      "32/32 [==============================] - 0s 11ms/step - loss: 0.0093 - accuracy: 1.0000 - val_loss: 0.2275 - val_accuracy: 0.9488\n",
      "Epoch 10/50\n",
      "32/32 [==============================] - 0s 11ms/step - loss: 0.0084 - accuracy: 1.0000 - val_loss: 0.2231 - val_accuracy: 0.9488\n",
      "Epoch 11/50\n",
      "32/32 [==============================] - 1s 18ms/step - loss: 0.0074 - accuracy: 1.0000 - val_loss: 0.2221 - val_accuracy: 0.9488\n",
      "Epoch 12/50\n",
      "32/32 [==============================] - 0s 11ms/step - loss: 0.0066 - accuracy: 1.0000 - val_loss: 0.2216 - val_accuracy: 0.9567\n",
      "Epoch 13/50\n",
      "32/32 [==============================] - 0s 12ms/step - loss: 0.0059 - accuracy: 1.0000 - val_loss: 0.2240 - val_accuracy: 0.9528\n",
      "Epoch 14/50\n",
      "32/32 [==============================] - 0s 11ms/step - loss: 0.0053 - accuracy: 1.0000 - val_loss: 0.2263 - val_accuracy: 0.9528\n",
      "Epoch 15/50\n",
      "32/32 [==============================] - 0s 13ms/step - loss: 0.0051 - accuracy: 1.0000 - val_loss: 0.2183 - val_accuracy: 0.9567\n",
      "Epoch 16/50\n",
      "32/32 [==============================] - 0s 12ms/step - loss: 0.0043 - accuracy: 1.0000 - val_loss: 0.2196 - val_accuracy: 0.9567\n",
      "Epoch 17/50\n",
      "32/32 [==============================] - 0s 11ms/step - loss: 0.0040 - accuracy: 1.0000 - val_loss: 0.2181 - val_accuracy: 0.9606\n",
      "Epoch 18/50\n",
      "32/32 [==============================] - 0s 14ms/step - loss: 0.0035 - accuracy: 1.0000 - val_loss: 0.2247 - val_accuracy: 0.9606\n",
      "Epoch 19/50\n",
      "32/32 [==============================] - 0s 11ms/step - loss: 0.0034 - accuracy: 1.0000 - val_loss: 0.2203 - val_accuracy: 0.9567\n",
      "Epoch 20/50\n",
      "32/32 [==============================] - 0s 11ms/step - loss: 0.0031 - accuracy: 1.0000 - val_loss: 0.2268 - val_accuracy: 0.9488\n",
      "Epoch 21/50\n",
      "32/32 [==============================] - 0s 13ms/step - loss: 0.0029 - accuracy: 1.0000 - val_loss: 0.2253 - val_accuracy: 0.9567\n",
      "Epoch 22/50\n",
      "32/32 [==============================] - 0s 12ms/step - loss: 0.0027 - accuracy: 1.0000 - val_loss: 0.2282 - val_accuracy: 0.9606\n",
      "Epoch 23/50\n",
      "32/32 [==============================] - 0s 12ms/step - loss: 0.0025 - accuracy: 1.0000 - val_loss: 0.2262 - val_accuracy: 0.9567\n",
      "Epoch 24/50\n",
      "32/32 [==============================] - 0s 13ms/step - loss: 0.0023 - accuracy: 1.0000 - val_loss: 0.2306 - val_accuracy: 0.9567\n",
      "Epoch 25/50\n",
      "32/32 [==============================] - 0s 12ms/step - loss: 0.0022 - accuracy: 1.0000 - val_loss: 0.2304 - val_accuracy: 0.9567\n",
      "Epoch 26/50\n",
      "32/32 [==============================] - 0s 11ms/step - loss: 0.0021 - accuracy: 1.0000 - val_loss: 0.2256 - val_accuracy: 0.9606\n",
      "Epoch 27/50\n",
      "32/32 [==============================] - 0s 10ms/step - loss: 0.0019 - accuracy: 1.0000 - val_loss: 0.2293 - val_accuracy: 0.9606\n",
      "Epoch 28/50\n",
      "32/32 [==============================] - 0s 11ms/step - loss: 0.0018 - accuracy: 1.0000 - val_loss: 0.2309 - val_accuracy: 0.9606\n",
      "Epoch 29/50\n",
      "32/32 [==============================] - 0s 9ms/step - loss: 0.0017 - accuracy: 1.0000 - val_loss: 0.2288 - val_accuracy: 0.9606\n",
      "Epoch 30/50\n",
      "32/32 [==============================] - 0s 9ms/step - loss: 0.0016 - accuracy: 1.0000 - val_loss: 0.2363 - val_accuracy: 0.9528\n",
      "Epoch 31/50\n",
      "32/32 [==============================] - 0s 9ms/step - loss: 0.0015 - accuracy: 1.0000 - val_loss: 0.2282 - val_accuracy: 0.9606\n",
      "Epoch 32/50\n",
      "32/32 [==============================] - 0s 11ms/step - loss: 0.0015 - accuracy: 1.0000 - val_loss: 0.2302 - val_accuracy: 0.9646\n",
      "Epoch 33/50\n",
      "32/32 [==============================] - 0s 10ms/step - loss: 0.0014 - accuracy: 1.0000 - val_loss: 0.2309 - val_accuracy: 0.9646\n",
      "Epoch 34/50\n",
      "32/32 [==============================] - 0s 9ms/step - loss: 0.0013 - accuracy: 1.0000 - val_loss: 0.2339 - val_accuracy: 0.9646\n",
      "Epoch 35/50\n",
      "32/32 [==============================] - 0s 11ms/step - loss: 0.0013 - accuracy: 1.0000 - val_loss: 0.2330 - val_accuracy: 0.9646\n",
      "Epoch 36/50\n",
      "32/32 [==============================] - 0s 10ms/step - loss: 0.0012 - accuracy: 1.0000 - val_loss: 0.2366 - val_accuracy: 0.9606\n",
      "Epoch 37/50\n",
      "32/32 [==============================] - 0s 10ms/step - loss: 0.0012 - accuracy: 1.0000 - val_loss: 0.2368 - val_accuracy: 0.9646\n",
      "Epoch 38/50\n",
      "32/32 [==============================] - 0s 10ms/step - loss: 0.0011 - accuracy: 1.0000 - val_loss: 0.2375 - val_accuracy: 0.9646\n",
      "Epoch 39/50\n",
      "32/32 [==============================] - 0s 11ms/step - loss: 0.0011 - accuracy: 1.0000 - val_loss: 0.2362 - val_accuracy: 0.9646\n",
      "Epoch 40/50\n",
      "32/32 [==============================] - 0s 9ms/step - loss: 9.9461e-04 - accuracy: 1.0000 - val_loss: 0.2363 - val_accuracy: 0.9646\n",
      "Epoch 41/50\n",
      "32/32 [==============================] - 0s 9ms/step - loss: 9.3737e-04 - accuracy: 1.0000 - val_loss: 0.2391 - val_accuracy: 0.9606\n",
      "Epoch 42/50\n",
      "32/32 [==============================] - 0s 9ms/step - loss: 9.0684e-04 - accuracy: 1.0000 - val_loss: 0.2375 - val_accuracy: 0.9646\n",
      "Epoch 43/50\n",
      "32/32 [==============================] - 0s 11ms/step - loss: 8.6798e-04 - accuracy: 1.0000 - val_loss: 0.2350 - val_accuracy: 0.9646\n",
      "Epoch 44/50\n",
      "32/32 [==============================] - 0s 9ms/step - loss: 8.3211e-04 - accuracy: 1.0000 - val_loss: 0.2394 - val_accuracy: 0.9646\n",
      "Epoch 45/50\n",
      "32/32 [==============================] - 0s 9ms/step - loss: 7.9541e-04 - accuracy: 1.0000 - val_loss: 0.2369 - val_accuracy: 0.9646\n",
      "Epoch 46/50\n",
      "32/32 [==============================] - 0s 12ms/step - loss: 7.7315e-04 - accuracy: 1.0000 - val_loss: 0.2385 - val_accuracy: 0.9606\n",
      "Epoch 47/50\n",
      "32/32 [==============================] - 0s 11ms/step - loss: 7.3948e-04 - accuracy: 1.0000 - val_loss: 0.2402 - val_accuracy: 0.9646\n",
      "Epoch 48/50\n",
      "32/32 [==============================] - 0s 10ms/step - loss: 7.0747e-04 - accuracy: 1.0000 - val_loss: 0.2372 - val_accuracy: 0.9646\n",
      "Epoch 49/50\n",
      "32/32 [==============================] - 0s 12ms/step - loss: 6.7232e-04 - accuracy: 1.0000 - val_loss: 0.2418 - val_accuracy: 0.9606\n",
      "Epoch 50/50\n",
      "32/32 [==============================] - 0s 12ms/step - loss: 6.5982e-04 - accuracy: 1.0000 - val_loss: 0.2428 - val_accuracy: 0.9606\n"
     ]
    },
    {
     "data": {
      "text/plain": [
       "<keras.src.callbacks.History at 0x2037240e850>"
      ]
     },
     "execution_count": 15,
     "metadata": {},
     "output_type": "execute_result"
    }
   ],
   "source": [
    "bestmod=tuner.get_best_models(num_models=1)[0]\n",
    "bestmod.fit(X_train_fold, Y_train_fold,epochs=50,validation_data=(X_val_fold, Y_val_fold))"
   ]
  },
  {
   "cell_type": "markdown",
   "id": "0d5a2347-3129-48ab-a68f-e7f36a72a848",
   "metadata": {},
   "source": [
    "## 3. Testing and Evaluation"
   ]
  },
  {
   "cell_type": "markdown",
   "id": "7e5d1cfd-7514-451c-bd77-09eee3094e85",
   "metadata": {},
   "source": [
    "Compute the accuracy for the test data"
   ]
  },
  {
   "cell_type": "code",
   "execution_count": 16,
   "id": "9fcc256d-7673-4a29-918e-55b9bcec8aa4",
   "metadata": {},
   "outputs": [
    {
     "name": "stdout",
     "output_type": "stream",
     "text": [
      "10/10 - 0s - loss: 0.1492 - accuracy: 0.9530 - 89ms/epoch - 9ms/step\n",
      "0.9529780745506287\n"
     ]
    }
   ],
   "source": [
    "test_loss, test_acc = bestmod.evaluate(Xtest,  Ytest, verbose=2)\n",
    "print(\"Accuracy for the Test Dataset\",test_acc)"
   ]
  },
  {
   "cell_type": "markdown",
   "id": "3d335dd5-2fad-4aab-8b7b-0469346b0a74",
   "metadata": {},
   "source": [
    "Calculate the F1 score for each class and generates a confusion matrix based on the predictions and true labels. The F1 scores are printed for each class, and a heatmap of the confusion matrix is plotted."
   ]
  },
  {
   "cell_type": "code",
   "execution_count": 24,
   "id": "96d973da-522a-4a78-91e9-d7c4926d7b1c",
   "metadata": {
    "scrolled": true
   },
   "outputs": [
    {
     "name": "stdout",
     "output_type": "stream",
     "text": [
      "10/10 [==============================] - 0s 13ms/step\n",
      "F1  [0.96428571 0.92063492 0.95774648 0.95774648 0.97142857 0.96428571\n",
      " 1.         0.96875    0.87878788 0.95652174] \n",
      "\n"
     ]
    },
    {
     "data": {
      "image/png": "[encoded data removed]",
      "text/plain": [
       "<Figure size 800x600 with 2 Axes>"
      ]
     },
     "metadata": {},
     "output_type": "display_data"
    }
   ],
   "source": [
    "Ytest_pred_probabilities=bestmod.predict(Xtest)\n",
    "Ytest_pred = np.argmax(Ytest_pred_probabilities, axis=1)\n",
    "Ytest_true=np.argmax(Ytest, axis=1)\n",
    "\n",
    "f1 = f1_score(Ytest_true, Ytest_pred, average=None)\n",
    "print(\"F1 \",f1,\"\\n\")\n",
    "\n",
    "conf_matrix = confusion_matrix(Ytest_true, Ytest_pred)\n",
    "\n",
    "plt.figure(figsize=(8, 6))\n",
    "sns.heatmap(conf_matrix, annot=True, fmt='g', cmap='Blues', xticklabels=range(num_classes), yticklabels=range(num_classes))\n",
    "plt.xlabel('Predicted')\n",
    "plt.ylabel('True')\n",
    "plt.title('Confusion Matrix')\n",
    "plt.show()"
   ]
  }
 ],
 "metadata": {
  "kernelspec": {
   "display_name": "Python 3 (ipykernel)",
   "language": "python",
   "name": "python3"
  },
  "language_info": {
   "codemirror_mode": {
    "name": "ipython",
    "version": 3
   },
   "file_extension": ".py",
   "mimetype": "text/x-python",
   "name": "python",
   "nbconvert_exporter": "python",
   "pygments_lexer": "ipython3",
   "version": "3.11.5"
  }
 },
 "nbformat": 4,
 "nbformat_minor": 5
}
