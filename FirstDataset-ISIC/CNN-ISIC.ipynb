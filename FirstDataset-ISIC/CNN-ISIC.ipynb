{
 "cells": [
  {
   "cell_type": "markdown",
   "id": "a172eaaf-68dd-443a-b268-d054fe5f26f6",
   "metadata": {},
   "source": [
    "## CNN Evaluation"
   ]
  },
  {
   "cell_type": "markdown",
   "id": "d087925e-e8d8-4e71-9489-8d9a68ac9324",
   "metadata": {},
   "source": [
    "## 1. Preprocessing\n",
    "### 1.1 Imports"
   ]
  },
  {
   "cell_type": "code",
   "execution_count": 1,
   "id": "a8d68a9f-348f-4154-b6b2-ece6d128f2f0",
   "metadata": {},
   "outputs": [],
   "source": [
    "import os\n",
    "# Ignore warning from tensorflow since the deprecation warning does not concern us\n",
    "os.environ['TF_CPP_MIN_LOG_LEVEL'] = '2'"
   ]
  },
  {
   "cell_type": "code",
   "execution_count": 3,
   "id": "6c17fb2c-ee77-4d5b-90d9-3ee2ed4d2570",
   "metadata": {},
   "outputs": [],
   "source": [
    "import numpy as np\n",
    "import pandas as pd\n",
    "from PIL import Image\n",
    "from matplotlib import pyplot as plt\n",
    "import tensorflow as tf\n",
    "from tensorflow import keras\n",
    "import keras_tuner\n",
    "from tensorflow.keras.models import Sequential\n",
    "from tensorflow.keras.layers import Conv2D, MaxPooling2D, Flatten, Dense\n",
    "from sklearn.model_selection import KFold\n",
    "from tensorflow.keras.utils import to_categorical\n",
    "from sklearn.metrics import confusion_matrix, f1_score\n",
    "import seaborn as sns"
   ]
  },
  {
   "cell_type": "markdown",
   "id": "ae7c32cc-b74d-48ce-900e-787fe18b3617",
   "metadata": {},
   "source": [
    "### 1.2 Loading of preprocessed data"
   ]
  },
  {
   "cell_type": "code",
   "execution_count": 4,
   "id": "acb25adf-5043-4ea5-9fdd-61572e3be7a4",
   "metadata": {},
   "outputs": [],
   "source": [
    "# Load ground truth\n",
    "Ytrain = np.load('3rdISICTrainGT_preprocessed.npy')\n",
    "Ytest = np.load('3rdISICTestGT_preprocessed.npy')\n",
    "\n",
    "# Load data\n",
    "Xtrain = np.load('3rdISICTrainpics_preprocessed.npy')\n",
    "Xtest = np.load('3rdISICTestpics_preprocessed.npy')"
   ]
  },
  {
   "cell_type": "markdown",
   "id": "fbf35017-021d-40cf-ab6a-d9eb37aaeebb",
   "metadata": {},
   "source": [
    "### 1.3 Addtional necessary preprocessing for CNN"
   ]
  },
  {
   "cell_type": "markdown",
   "id": "7e071849-4bf8-4be7-8977-8bb05ca17e06",
   "metadata": {},
   "source": [
    "Subtract 1 from the label arrays so that the possible label values start at 0. This is necessary for the to_categorial() method"
   ]
  },
  {
   "cell_type": "code",
   "execution_count": 5,
   "id": "41e69fa4-44c0-44b4-bee8-957d1a397ce7",
   "metadata": {},
   "outputs": [],
   "source": [
    "Ytrain=Ytrain-1\n",
    "Ytest=Ytest-1"
   ]
  },
  {
   "cell_type": "markdown",
   "id": "ede9f827-c552-4f7c-aaf8-85b688e3bb56",
   "metadata": {},
   "source": [
    "Convert the class labels in Ytrain and Ytest into one-hot encoded format. One-hot encoding is a representation of categorical variables as binary vectors, where each index corresponds to a class and the corresponding entry is set to 1 to represent the class of the instance. \n",
    "\n",
    "For example: [3] -> [0,0,0,1,0,0,0]"
   ]
  },
  {
   "cell_type": "code",
   "execution_count": 6,
   "id": "ceaeee6b-92ca-4ff4-a19f-323fad94e640",
   "metadata": {},
   "outputs": [
    {
     "name": "stdout",
     "output_type": "stream",
     "text": [
      "(2415,)\n",
      "(2415, 7)\n"
     ]
    }
   ],
   "source": [
    "num_classes = 7\n",
    "print(Ytrain.shape)\n",
    "Ytrain = to_categorical(Ytrain, num_classes=num_classes)\n",
    "Ytest =  to_categorical(Ytest, num_classes=num_classes)\n",
    "print(Ytrain.shape)"
   ]
  },
  {
   "cell_type": "markdown",
   "id": "3dc75836-b586-4ed2-b545-71176890d65d",
   "metadata": {},
   "source": [
    "Reshape the the input pictures to the orginal shape in order to use them as an input for CNN"
   ]
  },
  {
   "cell_type": "code",
   "execution_count": 7,
   "id": "07a09527-dd2f-491a-a9cb-75a7522678e1",
   "metadata": {},
   "outputs": [],
   "source": [
    "x = 60\n",
    "y = 45\n",
    "Xtrain=Xtrain.reshape(2415,y,x,3)\n",
    "Xtest=Xtest.reshape(735,y,x,3)"
   ]
  },
  {
   "cell_type": "markdown",
   "id": "f4bf07fb-00eb-4796-844d-7b31d6ca843e",
   "metadata": {},
   "source": [
    "5-fold cross-validation, where the data is split into training and validation sets"
   ]
  },
  {
   "cell_type": "code",
   "execution_count": 8,
   "id": "a76409ab-0bbb-4f9c-bc3a-aef0a9b26a8d",
   "metadata": {},
   "outputs": [],
   "source": [
    "kf = KFold(n_splits=5, shuffle=True, random_state=1)\n",
    "for fold, (train_index, val_index) in enumerate(kf.split(Xtrain, Ytrain)):\n",
    "    X_train_fold, X_val_fold = Xtrain[train_index], Xtrain[val_index]\n",
    "    Y_train_fold, Y_val_fold = Ytrain[train_index], Ytrain[val_index]"
   ]
  },
  {
   "cell_type": "markdown",
   "id": "6668b6dd-3509-49bc-9dc7-7946131bcbbb",
   "metadata": {},
   "source": [
    "## 2. Training\n",
    "### 2.1 First dummy model"
   ]
  },
  {
   "cell_type": "markdown",
   "id": "b190b110-c68d-4b71-ab45-396762249c1e",
   "metadata": {},
   "source": [
    "Method to create a CNN according to the hyperparameters"
   ]
  },
  {
   "cell_type": "code",
   "execution_count": 9,
   "id": "47b52dca-2cfe-427b-8219-a83211a2061a",
   "metadata": {},
   "outputs": [],
   "source": [
    "# Define your CNN model\n",
    "def create_cnn_model(filters=16, kernel_size=(3, 3), pool_size=(2, 2), dense_units=64, learning_rate=0.001,activation='relu'):\n",
    "    model = Sequential()\n",
    "    model.add(Conv2D(filters, kernel_size, activation='relu', input_shape=(input_shape)))\n",
    "    model.add(MaxPooling2D(pool_size=pool_size))\n",
    "    model.add(Flatten())\n",
    "    model.add(Dense(dense_units, activation=activation))\n",
    "    model.add(Dense(num_classes, activation='softmax'))\n",
    "    \n",
    "    model.compile(optimizer='adam', loss='categorical_crossentropy', metrics=['accuracy'])\n",
    "    \n",
    "    return model"
   ]
  },
  {
   "cell_type": "markdown",
   "id": "7f7f39c4-bb03-4ecb-b4c0-4ef071b1ad7e",
   "metadata": {},
   "source": [
    "Specify the input shape, create a dummy CNN model and train it on the training fold with corresponding labels for 10 epochs, using the validation fold for validation during training"
   ]
  },
  {
   "cell_type": "code",
   "execution_count": 11,
   "id": "dcb31d4c-d8ab-4aa5-b409-28a6f94c2827",
   "metadata": {},
   "outputs": [
    {
     "name": "stdout",
     "output_type": "stream",
     "text": [
      "Epoch 1/10\n",
      "61/61 [==============================] - 4s 30ms/step - loss: 2.0076 - accuracy: 0.1335 - val_loss: 1.9459 - val_accuracy: 0.1553\n",
      "Epoch 2/10\n",
      "61/61 [==============================] - 1s 22ms/step - loss: 1.9461 - accuracy: 0.1398 - val_loss: 1.9461 - val_accuracy: 0.1553\n",
      "Epoch 3/10\n",
      "61/61 [==============================] - 1s 22ms/step - loss: 1.9460 - accuracy: 0.1429 - val_loss: 1.9465 - val_accuracy: 0.1222\n",
      "Epoch 4/10\n",
      "61/61 [==============================] - 1s 23ms/step - loss: 1.9460 - accuracy: 0.1480 - val_loss: 1.9465 - val_accuracy: 0.1222\n",
      "Epoch 5/10\n",
      "61/61 [==============================] - 1s 22ms/step - loss: 1.9459 - accuracy: 0.1480 - val_loss: 1.9466 - val_accuracy: 0.1222\n",
      "Epoch 6/10\n",
      "61/61 [==============================] - 1s 22ms/step - loss: 1.9459 - accuracy: 0.1480 - val_loss: 1.9467 - val_accuracy: 0.1222\n",
      "Epoch 7/10\n",
      "61/61 [==============================] - 1s 21ms/step - loss: 1.9459 - accuracy: 0.1480 - val_loss: 1.9471 - val_accuracy: 0.1222\n",
      "Epoch 8/10\n",
      "61/61 [==============================] - 1s 21ms/step - loss: 1.9459 - accuracy: 0.1480 - val_loss: 1.9471 - val_accuracy: 0.1222\n",
      "Epoch 9/10\n",
      "61/61 [==============================] - 1s 22ms/step - loss: 1.9459 - accuracy: 0.1480 - val_loss: 1.9472 - val_accuracy: 0.1222\n",
      "Epoch 10/10\n",
      "61/61 [==============================] - 1s 22ms/step - loss: 1.9458 - accuracy: 0.1480 - val_loss: 1.9475 - val_accuracy: 0.1222\n"
     ]
    },
    {
     "data": {
      "text/plain": [
       "<keras.src.callbacks.History at 0x1d9528bfa10>"
      ]
     },
     "execution_count": 11,
     "metadata": {},
     "output_type": "execute_result"
    }
   ],
   "source": [
    "input_shape = (y, x, 3)  \n",
    "cnn_model = create_cnn_model()\n",
    "cnn_model.fit(X_train_fold, Y_train_fold,epochs=10,validation_data=(X_val_fold, Y_val_fold))"
   ]
  },
  {
   "cell_type": "markdown",
   "id": "1bed110e-346c-4b23-84ee-f3e1c90abe26",
   "metadata": {},
   "source": [
    "### 2.2 Hyperparameter Tuning using cross validation"
   ]
  },
  {
   "cell_type": "markdown",
   "id": "36db1c28-9ae6-46db-9baa-d7b6c32a81e3",
   "metadata": {},
   "source": [
    "build_model takes hyperparameters and creates a CNN model using these hyperparameter values. The hyperparameters are sampled within specified ranges and the function is called with a HyperParameters instance to build the CNN model with tunable hyperparameters. The resulting model can be used for hyperparameter tuning"
   ]
  },
  {
   "cell_type": "code",
   "execution_count": 12,
   "id": "378d7210-73b1-4182-a70b-43746dabe883",
   "metadata": {},
   "outputs": [
    {
     "data": {
      "text/plain": [
       "<keras.src.engine.sequential.Sequential at 0x1d9528d6b50>"
      ]
     },
     "execution_count": 12,
     "metadata": {},
     "output_type": "execute_result"
    }
   ],
   "source": [
    "\n",
    "\n",
    "def build_model(hp):\n",
    "    units = hp.Int(\"units\", min_value=32, max_value=512, step=32)\n",
    "    activation = hp.Choice(\"activation\", [\"relu\", \"tanh\"])\n",
    "    lr = hp.Float(\"lr\", min_value=1e-4, max_value=1e-2, sampling=\"log\")\n",
    "    filters = hp.Int(\"filters\", min_value=8, max_value=64, step=8)\n",
    "\n",
    "    \n",
    "    # Define kernel_size as a tuple of integers\n",
    "    kernel_size_1 = hp.Int(\"kernel_size_1\", min_value=2, max_value=5)\n",
    "    kernel_size_2 = hp.Int(\"kernel_size_2\", min_value=2, max_value=5)\n",
    "    \n",
    "    # Define pool_size as a tuple of integers\n",
    "    pool_size_1 = hp.Int(\"pool_size_1\", min_value=2, max_value=4)\n",
    "    pool_size_2 = hp.Int(\"pool_size_2\", min_value=2, max_value=4)\n",
    "    # call existing model-building code with the hyperparameter values.\n",
    "    model=create_cnn_model(filters=filters, kernel_size=(kernel_size_1, kernel_size_2), pool_size=(pool_size_1, pool_size_2), dense_units=units, learning_rate=lr,activation=activation)\n",
    "    return model\n",
    "\n",
    "\n",
    "build_model(keras_tuner.HyperParameters())\n"
   ]
  },
  {
   "cell_type": "markdown",
   "id": "006daa6c-e42a-4cc3-b1fa-c803f82f32bd",
   "metadata": {},
   "source": [
    "Random search hyperparameter tuning process. The tuning aims to optimize the CNN model built by the build_model function for validation accuracy over a maximum of 30 trials, each executed twice. The results, configurations, and trained models are stored in a directory named \"Hyper Parameter Tuning\" under the project name \"CNN-ISIC\". The tuner then conducts the search using training and validation data."
   ]
  },
  {
   "cell_type": "code",
   "execution_count": 13,
   "id": "56a5fe81-1e94-4c47-b76f-ba439806de96",
   "metadata": {},
   "outputs": [
    {
     "name": "stdout",
     "output_type": "stream",
     "text": [
      "Trial 30 Complete [00h 02m 01s]\n",
      "val_accuracy: 0.13871635496616364\n",
      "\n",
      "Best val_accuracy So Far: 0.35196687281131744\n",
      "Total elapsed time: 00h 41m 58s\n"
     ]
    }
   ],
   "source": [
    "tuner = keras_tuner.RandomSearch(\n",
    "    hypermodel=build_model,\n",
    "    objective=\"val_accuracy\",\n",
    "    max_trials=30,\n",
    "    executions_per_trial=2,\n",
    "    seed=1,\n",
    "    overwrite=True,\n",
    "    directory=\"Hyper Parameter Tuning\",\n",
    "    project_name=\"CNN-ISIC\",\n",
    ")\n",
    "tuner.search(X_train_fold, Y_train_fold, epochs=10, validation_data=(X_val_fold, Y_val_fold))"
   ]
  },
  {
   "cell_type": "markdown",
   "id": "44196d02-1aa2-4b99-9719-84f72217ff46",
   "metadata": {},
   "source": [
    "Take the best model which optimized the validation accuracy and train it with 50 epochs now."
   ]
  },
  {
   "cell_type": "code",
   "execution_count": 16,
   "id": "2fc3f323-8d9e-476f-b059-89145df967b4",
   "metadata": {},
   "outputs": [
    {
     "name": "stdout",
     "output_type": "stream",
     "text": [
      "Epoch 1/10\n",
      "61/61 [==============================] - 5s 52ms/step - loss: 1.6305 - accuracy: 0.3670 - val_loss: 1.7242 - val_accuracy: 0.2754\n",
      "Epoch 2/10\n",
      "61/61 [==============================] - 3s 41ms/step - loss: 1.5352 - accuracy: 0.4431 - val_loss: 1.6265 - val_accuracy: 0.3665\n",
      "Epoch 3/10\n",
      "61/61 [==============================] - 3s 42ms/step - loss: 1.4456 - accuracy: 0.4829 - val_loss: 1.5922 - val_accuracy: 0.3830\n",
      "Epoch 4/10\n",
      "61/61 [==============================] - 3s 42ms/step - loss: 1.3638 - accuracy: 0.4938 - val_loss: 1.5710 - val_accuracy: 0.3830\n",
      "Epoch 5/10\n",
      "61/61 [==============================] - 3s 43ms/step - loss: 1.3324 - accuracy: 0.5150 - val_loss: 1.6368 - val_accuracy: 0.3313\n",
      "Epoch 6/10\n",
      "61/61 [==============================] - 3s 42ms/step - loss: 1.3094 - accuracy: 0.5119 - val_loss: 1.5467 - val_accuracy: 0.4203\n",
      "Epoch 7/10\n",
      "61/61 [==============================] - 3s 42ms/step - loss: 1.2338 - accuracy: 0.5704 - val_loss: 1.6494 - val_accuracy: 0.3892\n",
      "Epoch 8/10\n",
      "61/61 [==============================] - 3s 43ms/step - loss: 1.2074 - accuracy: 0.5688 - val_loss: 1.5784 - val_accuracy: 0.3996\n",
      "Epoch 9/10\n",
      "61/61 [==============================] - 3s 44ms/step - loss: 1.1585 - accuracy: 0.5813 - val_loss: 1.6792 - val_accuracy: 0.3665\n",
      "Epoch 10/10\n",
      "61/61 [==============================] - 3s 42ms/step - loss: 1.1562 - accuracy: 0.5942 - val_loss: 1.6057 - val_accuracy: 0.4037\n"
     ]
    },
    {
     "data": {
      "text/plain": [
       "<keras.src.callbacks.History at 0x1da7f886210>"
      ]
     },
     "execution_count": 16,
     "metadata": {},
     "output_type": "execute_result"
    }
   ],
   "source": [
    "bestmod=tuner.get_best_models(num_models=1)[0]\n",
    "bestmod.fit(X_train_fold, Y_train_fold,epochs=10,validation_data=(X_val_fold, Y_val_fold))"
   ]
  },
  {
   "cell_type": "markdown",
   "id": "e4b3748b-a2a0-4d38-8bf0-b4f281f381ed",
   "metadata": {},
   "source": [
    "## 3. Testing and Evaluation"
   ]
  },
  {
   "cell_type": "markdown",
   "id": "4069dbec-fff2-4e33-b807-184014e4533c",
   "metadata": {},
   "source": [
    "Compute the accuracy for the test data"
   ]
  },
  {
   "cell_type": "code",
   "execution_count": 17,
   "id": "9fcc256d-7673-4a29-918e-55b9bcec8aa4",
   "metadata": {},
   "outputs": [
    {
     "name": "stdout",
     "output_type": "stream",
     "text": [
      "Accuracy for the Test Dataset 0.35374149680137634\n"
     ]
    }
   ],
   "source": [
    "test_loss, test_acc = bestmod.evaluate(Xtest,  Ytest, verbose=0)\n",
    "print(\"Accuracy for the Test Dataset\",test_acc)"
   ]
  },
  {
   "cell_type": "markdown",
   "id": "e61a940c-81ef-46c8-8b00-d214d5312cae",
   "metadata": {},
   "source": [
    "Calculate the F1 score for each class and generates a confusion matrix based on the predictions and true labels. The F1 scores are printed for each class, and a heatmap of the confusion matrix is plotted."
   ]
  },
  {
   "cell_type": "code",
   "execution_count": 18,
   "id": "f16b978d-594f-4fb0-b8c3-307136c56cc3",
   "metadata": {},
   "outputs": [
    {
     "name": "stdout",
     "output_type": "stream",
     "text": [
      "F1  [0.35761589 0.61835749 0.325      0.19730942 0.05084746 0.27692308\n",
      " 0.55135135] \n",
      "\n"
     ]
    }
   ],
   "source": [
    "Ytest_pred_probabilities=bestmod.predict(Xtest,verbose=0)\n",
    "Ytest_pred = np.argmax(Ytest_pred_probabilities, axis=1)\n",
    "Ytest_true=np.argmax(Ytest, axis=1)\n",
    "\n",
    "f1 = f1_score(Ytest_true, Ytest_pred, average=None)\n",
    "print(\"F1 \",f1,\"\\n\")"
   ]
  },
  {
   "cell_type": "code",
   "execution_count": 19,
   "id": "96d973da-522a-4a78-91e9-d7c4926d7b1c",
   "metadata": {
    "scrolled": true
   },
   "outputs": [
    {
     "data": {
      "image/png": "[encoded data removed]",
      "text/plain": [
       "<Figure size 800x600 with 2 Axes>"
      ]
     },
     "metadata": {},
     "output_type": "display_data"
    }
   ],
   "source": [
    "classes = [\"MEL\", \"NV\",\"BCC\",\"AKIEC\",\"BKL\",\"DF\",\"VASC\"]\n",
    "\n",
    "conf_matrix = confusion_matrix(Ytest_true, Ytest_pred)\n",
    "\n",
    "plt.figure(figsize=(8, 6))\n",
    "sns.heatmap(conf_matrix, annot=True, fmt='g', cmap='Blues', xticklabels=classes, yticklabels=classes)\n",
    "plt.xlabel('Predicted')\n",
    "plt.ylabel('True')\n",
    "plt.title('Confusion Matrix')\n",
    "plt.show()"
   ]
  }
 ],
 "metadata": {
  "kernelspec": {
   "display_name": "Python 3 (ipykernel)",
   "language": "python",
   "name": "python3"
  },
  "language_info": {
   "codemirror_mode": {
    "name": "ipython",
    "version": 3
   },
   "file_extension": ".py",
   "mimetype": "text/x-python",
   "name": "python",
   "nbconvert_exporter": "python",
   "pygments_lexer": "ipython3",
   "version": "3.11.5"
  }
 },
 "nbformat": 4,
 "nbformat_minor": 5
}
