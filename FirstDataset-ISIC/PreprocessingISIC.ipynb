{
 "cells": [
  {
   "cell_type": "markdown",
   "id": "d087925e-e8d8-4e71-9489-8d9a68ac9324",
   "metadata": {},
   "source": [
    "# Preprocessing ISIC Dataset\n",
    "## 1. Training Data\n",
    "### 1.1. Imports and load ground truth "
   ]
  },
  {
   "cell_type": "code",
   "execution_count": 16,
   "id": "6c17fb2c-ee77-4d5b-90d9-3ee2ed4d2570",
   "metadata": {},
   "outputs": [
    {
     "data": {
      "text/html": [
       "<div>\n",
       "<style scoped>\n",
       "    .dataframe tbody tr th:only-of-type {\n",
       "        vertical-align: middle;\n",
       "    }\n",
       "\n",
       "    .dataframe tbody tr th {\n",
       "        vertical-align: top;\n",
       "    }\n",
       "\n",
       "    .dataframe thead th {\n",
       "        text-align: right;\n",
       "    }\n",
       "</style>\n",
       "<table border=\"1\" class=\"dataframe\">\n",
       "  <thead>\n",
       "    <tr style=\"text-align: right;\">\n",
       "      <th></th>\n",
       "      <th>image</th>\n",
       "      <th>MEL</th>\n",
       "      <th>NV</th>\n",
       "      <th>BCC</th>\n",
       "      <th>AKIEC</th>\n",
       "      <th>BKL</th>\n",
       "      <th>DF</th>\n",
       "      <th>VASC</th>\n",
       "    </tr>\n",
       "  </thead>\n",
       "  <tbody>\n",
       "    <tr>\n",
       "      <th>0</th>\n",
       "      <td>ISIC_0024306</td>\n",
       "      <td>0.0</td>\n",
       "      <td>1.0</td>\n",
       "      <td>0.0</td>\n",
       "      <td>0.0</td>\n",
       "      <td>0.0</td>\n",
       "      <td>0.0</td>\n",
       "      <td>0.0</td>\n",
       "    </tr>\n",
       "    <tr>\n",
       "      <th>1</th>\n",
       "      <td>ISIC_0024307</td>\n",
       "      <td>0.0</td>\n",
       "      <td>1.0</td>\n",
       "      <td>0.0</td>\n",
       "      <td>0.0</td>\n",
       "      <td>0.0</td>\n",
       "      <td>0.0</td>\n",
       "      <td>0.0</td>\n",
       "    </tr>\n",
       "    <tr>\n",
       "      <th>2</th>\n",
       "      <td>ISIC_0024308</td>\n",
       "      <td>0.0</td>\n",
       "      <td>1.0</td>\n",
       "      <td>0.0</td>\n",
       "      <td>0.0</td>\n",
       "      <td>0.0</td>\n",
       "      <td>0.0</td>\n",
       "      <td>0.0</td>\n",
       "    </tr>\n",
       "    <tr>\n",
       "      <th>3</th>\n",
       "      <td>ISIC_0024309</td>\n",
       "      <td>0.0</td>\n",
       "      <td>1.0</td>\n",
       "      <td>0.0</td>\n",
       "      <td>0.0</td>\n",
       "      <td>0.0</td>\n",
       "      <td>0.0</td>\n",
       "      <td>0.0</td>\n",
       "    </tr>\n",
       "    <tr>\n",
       "      <th>4</th>\n",
       "      <td>ISIC_0024310</td>\n",
       "      <td>1.0</td>\n",
       "      <td>0.0</td>\n",
       "      <td>0.0</td>\n",
       "      <td>0.0</td>\n",
       "      <td>0.0</td>\n",
       "      <td>0.0</td>\n",
       "      <td>0.0</td>\n",
       "    </tr>\n",
       "  </tbody>\n",
       "</table>\n",
       "</div>"
      ],
      "text/plain": [
       "          image  MEL   NV  BCC  AKIEC  BKL   DF  VASC\n",
       "0  ISIC_0024306  0.0  1.0  0.0    0.0  0.0  0.0   0.0\n",
       "1  ISIC_0024307  0.0  1.0  0.0    0.0  0.0  0.0   0.0\n",
       "2  ISIC_0024308  0.0  1.0  0.0    0.0  0.0  0.0   0.0\n",
       "3  ISIC_0024309  0.0  1.0  0.0    0.0  0.0  0.0   0.0\n",
       "4  ISIC_0024310  1.0  0.0  0.0    0.0  0.0  0.0   0.0"
      ]
     },
     "execution_count": 16,
     "metadata": {},
     "output_type": "execute_result"
    }
   ],
   "source": [
    "import numpy as np\n",
    "import pandas as pd\n",
    "from PIL import Image\n",
    "import os\n",
    "from matplotlib import pyplot as plt\n",
    "\n",
    "\n",
    "# Load ground truth\n",
    "gt=pd.read_csv('ISIC2018_Task3_Training_GroundTruth.csv')\n",
    "\n",
    "gt.head()"
   ]
  },
  {
   "cell_type": "markdown",
   "id": "cc5d1456",
   "metadata": {},
   "source": [
    "The given format of the ground truth is not suitable for the ML algorithms we wanted to use. Therefore, we had to transform the ground truth into a vector that assigns each image to a number representing the diagnosis."
   ]
  },
  {
   "cell_type": "code",
   "execution_count": 17,
   "id": "82769974-26c1-44b8-81d8-54777e0f2ef3",
   "metadata": {},
   "outputs": [
    {
     "data": {
      "text/plain": [
       "0     2\n",
       "1     2\n",
       "2     2\n",
       "3     2\n",
       "4     1\n",
       "5     2\n",
       "6     5\n",
       "7     1\n",
       "8     2\n",
       "9     1\n",
       "10    2\n",
       "11    2\n",
       "12    6\n",
       "13    2\n",
       "14    2\n",
       "15    2\n",
       "16    2\n",
       "17    1\n",
       "18    5\n",
       "19    2\n",
       "dtype: int32"
      ]
     },
     "execution_count": 17,
     "metadata": {},
     "output_type": "execute_result"
    }
   ],
   "source": [
    "#Convert csv to one array \n",
    "Ytrain=gt['MEL']+ 2*gt['NV'] + 3*gt['BCC'] + 4*gt['AKIEC'] + 5*gt['BKL'] + 6*gt['DF'] + 7*gt['VASC']\n",
    "Ytrain = Ytrain.astype(int)\n",
    "Ytrain[0:20]"
   ]
  },
  {
   "cell_type": "markdown",
   "id": "915c9038",
   "metadata": {},
   "source": [
    "### 1.2. Load data "
   ]
  },
  {
   "cell_type": "markdown",
   "id": "74286f96",
   "metadata": {},
   "source": [
    "One of the biggest challenges with this dataset was dealing with the overrepresentation of some classes, which can have a negative impact on the training process. To ensure that each class type has the same number of images, we determined the smallest amount of representations and loaded only that many images for each type."
   ]
  },
  {
   "cell_type": "code",
   "execution_count": 18,
   "id": "1b434d68",
   "metadata": {},
   "outputs": [
    {
     "name": "stdout",
     "output_type": "stream",
     "text": [
      "[1113 6705  514  327 1099  115  142]\n",
      "Least represented value: 6 with 115 representations\n",
      "805 images left.\n"
     ]
    }
   ],
   "source": [
    "def reduceDataset(Y,img_names, numClasses):\n",
    "    # count all the values in the ground truth\n",
    "    counts = np.bincount(Y)\n",
    "    counts= np.delete(counts, 0)\n",
    "    print(counts)\n",
    "\n",
    "    # determine the least represented value\n",
    "    rare_value = np.argmin(counts)\n",
    "    num_representations = counts[rare_value]\n",
    "\n",
    "    print(\"Least represented value:\", rare_value+1, \"with\",num_representations , \"representations\")\n",
    "\n",
    "    # select num_representations images for each class\n",
    "    counter = np.zeros((numClasses))\n",
    "    img_index =  []\n",
    "    newY=[]\n",
    "    for index, elem in enumerate(Y):\n",
    "        x = int(elem) -1\n",
    "        if counter[x]< num_representations:\n",
    "            img_index = np.append(img_index, (img_names[index] + \".jpg\"))\n",
    "            counter[x]+=1\n",
    "            newY = np.append(newY, elem)\n",
    "        if sum(counter)>= numClasses*num_representations:\n",
    "            break\n",
    "    print(img_index.size, \"images left.\")\n",
    "    return img_index, newY\n",
    "\n",
    "# save image lables in an array\n",
    "img_names = gt['image']\n",
    "\n",
    "# Reduce the ground trouth and estimate which images should be loaded into the training set\n",
    "train_index, Ytrain = reduceDataset(Ytrain, img_names,7)"
   ]
  },
  {
   "cell_type": "code",
   "execution_count": 19,
   "id": "67174926-eee4-45e3-b4e6-5791ffab6ccf",
   "metadata": {},
   "outputs": [
    {
     "data": {
      "text/plain": [
       "(805, 45, 60, 3)"
      ]
     },
     "execution_count": 19,
     "metadata": {},
     "output_type": "execute_result"
    }
   ],
   "source": [
    "def loadPics(directory, x, y, index):\n",
    "    data = []\n",
    "    # Iterate through files in the specified directory\n",
    "    for file in os.listdir(directory):\n",
    "         # Check if the file is from type \".jpg\"\n",
    "         if file.endswith(\".jpg\") and file in index:\n",
    "             #Take the image, resize it, covert it into an numpy array and append it to our data list\n",
    "             img = Image.open(os.path.join(directory, file))\n",
    "             img = img.resize((x,y))\n",
    "             imgArray = np.array(img)\n",
    "             data.append(imgArray)\n",
    "\n",
    "    #Convert data list to np array\n",
    "    data = np.array(data)\n",
    "    return data\n",
    "\n",
    "#load training data\n",
    "data1 = loadPics(\"ISIC2018_Task3_Training_Input\", 60,45, train_index)\n",
    "\n",
    "#Check the shape of our numpy data array\n",
    "data1.shape"
   ]
  },
  {
   "cell_type": "markdown",
   "id": "2dd21774",
   "metadata": {},
   "source": [
    "### 1.3. Data Augmentation"
   ]
  },
  {
   "cell_type": "markdown",
   "id": "58a02123",
   "metadata": {},
   "source": [
    "Reducing the dataset helped to overcome the problem of over-representation of classes, but in general it would be more helpful to have more images in the dataset than less. Therefore, we used data augmentation to create more image data by taking existing images, transforming them and adding the newly created images to our dataset."
   ]
  },
  {
   "cell_type": "code",
   "execution_count": 21,
   "id": "23504ad2",
   "metadata": {},
   "outputs": [],
   "source": [
    "from keras.preprocessing.image import ImageDataGenerator\n",
    "\n",
    "# Use ImageDataGenerator to create an generator \n",
    "datagen = ImageDataGenerator(\n",
    "    rotation_range=40,\n",
    "    width_shift_range=0.2,\n",
    "    height_shift_range=0.2,\n",
    "    shear_range=0.2,\n",
    "    zoom_range=0.2,\n",
    "    horizontal_flip=True,\n",
    "    fill_mode='nearest'\n",
    ")"
   ]
  },
  {
   "cell_type": "code",
   "execution_count": 22,
   "id": "ed56b089",
   "metadata": {},
   "outputs": [
    {
     "data": {
      "image/png": "[encoded data removed]",
      "text/plain": [
       "<Figure size 640x480 with 1 Axes>"
      ]
     },
     "metadata": {},
     "output_type": "display_data"
    }
   ],
   "source": [
    "# plot sample image\n",
    "plt.imshow(datagen.random_transform(data1[2,:,:]))\n",
    "plt.show()\n",
    "plt.close()"
   ]
  },
  {
   "cell_type": "code",
   "execution_count": 24,
   "id": "4c9ce538",
   "metadata": {},
   "outputs": [],
   "source": [
    "newXtrain = data1.copy()\n",
    "newYtrain = Ytrain.copy()\n",
    "\n",
    "# Apply data augmentation two times for every image\n",
    "for _ in range(2):\n",
    "    augmented_data = []\n",
    "    # for every image in the dataset (805 images)\n",
    "    for img in range(805):\n",
    "        augmentedImage = datagen.random_transform(data1[img,:,:,:])\n",
    "        augmented_data.append(augmentedImage)\n",
    "    data = np.array(augmented_data)\n",
    "    # add new data to excisting data\n",
    "    newXtrain = np.concatenate((newXtrain, data), axis=0)\n",
    "    newYtrain = np.concatenate((newYtrain, Ytrain), axis=0)\n",
    "\n"
   ]
  },
  {
   "cell_type": "code",
   "execution_count": 25,
   "id": "0cd54ea9",
   "metadata": {},
   "outputs": [
    {
     "data": {
      "text/plain": [
       "(2415, 45, 60, 3)"
      ]
     },
     "execution_count": 25,
     "metadata": {},
     "output_type": "execute_result"
    }
   ],
   "source": [
    "# check the new size of the training set\n",
    "newXtrain.shape"
   ]
  },
  {
   "cell_type": "markdown",
   "id": "653117e3-cf8f-4789-b46d-ad33b2bf3dcc",
   "metadata": {},
   "source": [
    "### 1.4. Reshaping"
   ]
  },
  {
   "cell_type": "markdown",
   "id": "ed20e414",
   "metadata": {},
   "source": [
    "Reshape data in order to have one image per row"
   ]
  },
  {
   "cell_type": "code",
   "execution_count": 27,
   "id": "1cb8e71c-0132-47d7-b10e-e7d7f3b67195",
   "metadata": {},
   "outputs": [
    {
     "data": {
      "text/plain": [
       "(2415, 8100)"
      ]
     },
     "execution_count": 27,
     "metadata": {},
     "output_type": "execute_result"
    }
   ],
   "source": [
    "reshapeData = newXtrain.reshape(newXtrain.shape[0], newXtrain.shape[1]*newXtrain.shape[2]*newXtrain.shape[3])\n",
    "# Controll shape\n",
    "reshapeData.shape"
   ]
  },
  {
   "cell_type": "markdown",
   "id": "1606a896-2ce9-4e02-ae4e-b2d1099becf0",
   "metadata": {},
   "source": [
    "### 1.5. Normalization"
   ]
  },
  {
   "cell_type": "markdown",
   "id": "bb8cc56e",
   "metadata": {},
   "source": [
    "Normalize data by dividing by the maximum value of the pixels (255)"
   ]
  },
  {
   "cell_type": "code",
   "execution_count": 28,
   "id": "180398e0-0539-44d1-8445-f191e3670ea7",
   "metadata": {},
   "outputs": [
    {
     "name": "stdout",
     "output_type": "stream",
     "text": [
      "normData.min() 0.0\n",
      "normData.max() 1.0\n"
     ]
    }
   ],
   "source": [
    "normData = reshapeData / 255.\n",
    "print('normData.min()', normData.min())\n",
    "print('normData.max()', normData.max())"
   ]
  },
  {
   "cell_type": "markdown",
   "id": "5f5a9a5b-2656-435b-b2cc-1c0d622dc9d1",
   "metadata": {},
   "source": [
    "### 1.6. Mean removal"
   ]
  },
  {
   "cell_type": "markdown",
   "id": "7e99d9eb",
   "metadata": {},
   "source": [
    "Remove the mean from each pixel"
   ]
  },
  {
   "cell_type": "code",
   "execution_count": 29,
   "id": "03f5c12c-4916-4ba3-878a-72e3e49f5346",
   "metadata": {},
   "outputs": [
    {
     "data": {
      "text/plain": [
       "array([ 1.29130661e-15,  7.02911389e-16, -1.03956411e-15, ...,\n",
       "        3.06991607e-15, -9.55343465e-16,  1.58925093e-16])"
      ]
     },
     "execution_count": 29,
     "metadata": {},
     "output_type": "execute_result"
    }
   ],
   "source": [
    "normData = normData - normData.mean(axis=0)\n",
    "# Control if the means are now approx. 0\n",
    "normData.mean(axis=0)"
   ]
  },
  {
   "cell_type": "markdown",
   "id": "cbb718f1",
   "metadata": {},
   "source": [
    "### 1.7 ZCA whitening"
   ]
  },
  {
   "cell_type": "markdown",
   "id": "30c53be2",
   "metadata": {},
   "source": [
    "Finally, as in the first lab of this course, we applied whitening to reduce redundancy in the image data. This can help to highlight the structures and features in the image for the learning algorithm."
   ]
  },
  {
   "cell_type": "code",
   "execution_count": 30,
   "id": "cf5945bd",
   "metadata": {},
   "outputs": [
    {
     "name": "stdout",
     "output_type": "stream",
     "text": [
      "(8100, 8100)\n",
      "min: 0.0\n",
      "max: 1.0\n"
     ]
    }
   ],
   "source": [
    "#Calculate the covariance matrix of the normalized data\n",
    "cov = np.cov(normData, rowvar=False)\n",
    "# Control shape of covariance matrix\n",
    "print(cov.shape)\n",
    "\n",
    "#Perform Singular Value Decomposition (SVD) on the covariance matrix 'cov'\n",
    "U,S,V = np.linalg.svd(cov)\n",
    "#Set a small constant 'epsilon' to avoid division by zero in the next step\n",
    "epsilon = 0.1\n",
    "# Perform Zero-phase Component Analysis whitening on the normalized data\n",
    "DataZCA = U.dot(np.diag(1.0/np.sqrt(S + epsilon))).dot(U.T).dot(normData.T).T\n",
    "#Rescale the ZCA-whitened data 'DataZCA' to the range [0, 1]\n",
    "DataZCA_rescaled = (DataZCA - DataZCA.min()) / (DataZCA.max() - DataZCA.min())\n",
    "print('min:', DataZCA_rescaled.min())\n",
    "print('max:', DataZCA_rescaled.max())"
   ]
  },
  {
   "cell_type": "markdown",
   "id": "8b324607",
   "metadata": {},
   "source": [
    "### 1.8. Plot sample image"
   ]
  },
  {
   "cell_type": "code",
   "execution_count": 35,
   "id": "6e810a70-94b0-4d72-9358-010c614ab3dd",
   "metadata": {},
   "outputs": [
    {
     "data": {
      "image/png": "[encoded data removed]",
      "text/plain": [
       "<Figure size 640x480 with 1 Axes>"
      ]
     },
     "metadata": {},
     "output_type": "display_data"
    },
    {
     "data": {
      "image/png": "[encoded data removed]",
      "text/plain": [
       "<Figure size 640x480 with 1 Axes>"
      ]
     },
     "metadata": {},
     "output_type": "display_data"
    }
   ],
   "source": [
    "Xtrain = DataZCA_rescaled\n",
    "\n",
    "#Function which takes a image and plots it\n",
    "x = 60\n",
    "y = 45\n",
    "def plotImage(X):\n",
    " plt.imshow(X.reshape(y,x,3))\n",
    " plt.show()\n",
    " plt.close()\n",
    "\n",
    "#Plot third image before and after whitening\n",
    "plotImage(reshapeData[2, :])\n",
    "plotImage(Xtrain[2, :])"
   ]
  },
  {
   "cell_type": "markdown",
   "id": "5a54d696",
   "metadata": {},
   "source": [
    "## 2. Test Data\n",
    "We will repeat the same steps as above for the test data.\n",
    "### 2.1. Imports and load ground truth"
   ]
  },
  {
   "cell_type": "code",
   "execution_count": 36,
   "id": "21acddf2-97f1-4041-80dc-dd2fffefab74",
   "metadata": {},
   "outputs": [],
   "source": [
    "# Load ground truth\n",
    "Ytest=pd.read_csv('ISIC2018_Task3_Test_GroundTruth.csv')\n",
    "test_names = Ytest['image']\n",
    "#Convert csv to one array (ToDo: check conversion to numpy array and save the classes\n",
    "Ytest=Ytest['MEL']+ 2*Ytest['NV'] + 3*Ytest['BCC'] + 4*Ytest['AKIEC'] + 5*Ytest['BKL'] + 6*Ytest['DF'] + 7*Ytest['VASC']\n",
    "Ytest = Ytest.astype(int)"
   ]
  },
  {
   "cell_type": "markdown",
   "id": "cb2c208a",
   "metadata": {},
   "source": [
    "### 2.2. Load data"
   ]
  },
  {
   "cell_type": "code",
   "execution_count": 37,
   "id": "f30a19de",
   "metadata": {},
   "outputs": [
    {
     "name": "stdout",
     "output_type": "stream",
     "text": [
      "[171 909  93  43 217  44  35]\n",
      "Least represented value: 7 with 35 representations\n",
      "245 images left.\n"
     ]
    }
   ],
   "source": [
    "test_index, Ytest = reduceDataset(Ytest, test_names,7)"
   ]
  },
  {
   "cell_type": "code",
   "execution_count": 38,
   "id": "6f845cd5-8430-4e29-9939-5a2840951fab",
   "metadata": {},
   "outputs": [
    {
     "data": {
      "text/plain": [
       "(245, 45, 60, 3)"
      ]
     },
     "execution_count": 38,
     "metadata": {},
     "output_type": "execute_result"
    }
   ],
   "source": [
    "data2 = loadPics(\"ISIC2018_Task3_Test_Input\", 60,45, test_index)\n",
    "#Check the shape of our numpy data array\n",
    "data2.shape"
   ]
  },
  {
   "cell_type": "markdown",
   "id": "7061c53f",
   "metadata": {},
   "source": [
    "### 2.3. Data Augmentation"
   ]
  },
  {
   "cell_type": "code",
   "execution_count": 39,
   "id": "3ac913f7",
   "metadata": {},
   "outputs": [],
   "source": [
    "newXtest = data2.copy()\n",
    "newYtest = Ytest.copy()\n",
    "\n",
    "# Apply data augmentation two times for every image\n",
    "for _ in range(2):\n",
    "    augmented_data = []\n",
    "    # for every image in the dataset (245 images)\n",
    "    for img in range(245):\n",
    "        augmentedImage = datagen.random_transform(data2[img,:,:,:])\n",
    "        augmented_data.append(augmentedImage)\n",
    "    data = np.array(augmented_data)\n",
    "    # add new data to excisting data\n",
    "    newXtest = np.concatenate((newXtest, data), axis=0)\n",
    "    newYtest = np.concatenate((newYtest, Ytest), axis=0)"
   ]
  },
  {
   "cell_type": "code",
   "execution_count": 40,
   "id": "017a39aa",
   "metadata": {},
   "outputs": [
    {
     "data": {
      "text/plain": [
       "(735, 45, 60, 3)"
      ]
     },
     "execution_count": 40,
     "metadata": {},
     "output_type": "execute_result"
    }
   ],
   "source": [
    "# check the new size of the training set\n",
    "newXtest.shape"
   ]
  },
  {
   "cell_type": "markdown",
   "id": "29b13db7",
   "metadata": {},
   "source": [
    "### 2.4. Reshaping"
   ]
  },
  {
   "cell_type": "code",
   "execution_count": 56,
   "id": "65a4ed0a-3c66-403d-8030-b564781b8984",
   "metadata": {},
   "outputs": [
    {
     "name": "stdout",
     "output_type": "stream",
     "text": [
      "(735, 8100)\n"
     ]
    }
   ],
   "source": [
    "#Reshape data in order to have one image per row\n",
    "reshapeData2 = newXtest.reshape(newXtest.shape[0], newXtest.shape[1]*newXtest.shape[2]*newXtest.shape[3])\n",
    "# Controll shape\n",
    "print(reshapeData2.shape)"
   ]
  },
  {
   "cell_type": "markdown",
   "id": "4f8eab39",
   "metadata": {},
   "source": [
    "### 2.5. Normalization"
   ]
  },
  {
   "cell_type": "code",
   "execution_count": 57,
   "id": "baa30313-5d13-4a8d-8997-1d3d631320ba",
   "metadata": {},
   "outputs": [
    {
     "name": "stdout",
     "output_type": "stream",
     "text": [
      "normData2.min() 0.0\n",
      "normData2.max() 1.0\n"
     ]
    }
   ],
   "source": [
    "#Normalize data by dividing by the maximum value of the pixels (255)\n",
    "normData2 = reshapeData2 / 255\n",
    "print('normData2.min()', normData2.min())\n",
    "print('normData2.max()', normData2.max())"
   ]
  },
  {
   "cell_type": "markdown",
   "id": "a598b4ae",
   "metadata": {},
   "source": [
    "### 2.6. Mean Removal"
   ]
  },
  {
   "cell_type": "code",
   "execution_count": 58,
   "id": "10278386-338a-4bb4-a9ca-540c7e50289e",
   "metadata": {},
   "outputs": [
    {
     "name": "stdout",
     "output_type": "stream",
     "text": [
      "[ 6.79728382e-16 -6.12208696e-16  6.49518232e-18 ...  1.22456844e-15\n",
      "  5.28224479e-16  6.76254215e-16]\n"
     ]
    }
   ],
   "source": [
    "#Remove the mean from each pixel\n",
    "normData2 = normData2 - normData2.mean(axis=0)\n",
    "# Control if the means are now approx. 0\n",
    "print(normData2.mean(axis=0))"
   ]
  },
  {
   "cell_type": "markdown",
   "id": "06b191b6",
   "metadata": {},
   "source": [
    "### 1.7 ZCA whitening"
   ]
  },
  {
   "cell_type": "code",
   "execution_count": 60,
   "id": "940a6f20",
   "metadata": {},
   "outputs": [
    {
     "name": "stdout",
     "output_type": "stream",
     "text": [
      "(8100, 8100)\n",
      "min: 0.0\n",
      "max: 1.0\n"
     ]
    }
   ],
   "source": [
    "#Calculate the covariance matrix of the normalized data\n",
    "cov2 = np.cov(normData2, rowvar=False)\n",
    "# Control shape of covariance matrix\n",
    "print(cov2.shape)\n",
    "\n",
    "#Perform Singular Value Decomposition (SVD) on the covariance matrix 'cov'\n",
    "U2,S2,V2 = np.linalg.svd(cov2)\n",
    "#Set a small constant 'epsilon' to avoid division by zero in the next step\n",
    "epsilon2 = 0.1\n",
    "# Perform Zero-phase Component Analysis whitening on the normalized data\n",
    "DataZCA2 = U2.dot(np.diag(1.0/np.sqrt(S2 + epsilon2))).dot(U2.T).dot(normData2.T).T\n",
    "#Rescale the ZCA-whitened data 'DataZCA' to the range [0, 1]\n",
    "DataZCA_rescaled2 = (DataZCA2 - DataZCA2.min()) / (DataZCA2.max() - DataZCA2.min())\n",
    "print('min:', DataZCA_rescaled2.min())\n",
    "print('max:', DataZCA_rescaled2.max())"
   ]
  },
  {
   "cell_type": "markdown",
   "id": "2e90858a",
   "metadata": {},
   "source": [
    "### 2.8. Plot sample image"
   ]
  },
  {
   "cell_type": "code",
   "execution_count": 61,
   "id": "48aec57e-4aae-438e-8261-5d26a84617a2",
   "metadata": {},
   "outputs": [
    {
     "data": {
      "image/png": "[encoded data removed]",
      "text/plain": [
       "<Figure size 640x480 with 1 Axes>"
      ]
     },
     "metadata": {},
     "output_type": "display_data"
    },
    {
     "data": {
      "image/png": "[encoded data removed]",
      "text/plain": [
       "<Figure size 640x480 with 1 Axes>"
      ]
     },
     "metadata": {},
     "output_type": "display_data"
    }
   ],
   "source": [
    "Xtest = DataZCA_rescaled2\n",
    "\n",
    "#Plot third image before and after whitening\n",
    "#plotImage(newXtest[2, :,:,:])\n",
    "plt.imshow(data2[2,:,:,:])\n",
    "plt.show()\n",
    "plt.close()\n",
    "plotImage(Xtest[2, :])"
   ]
  },
  {
   "cell_type": "markdown",
   "id": "4e6abdf1",
   "metadata": {},
   "source": [
    "## 3. Save preprocessed data"
   ]
  },
  {
   "cell_type": "code",
   "execution_count": 63,
   "id": "9fcc256d-7673-4a29-918e-55b9bcec8aa4",
   "metadata": {},
   "outputs": [],
   "source": [
    "# Save the NumPy array to an npy file\n",
    "np.save('3rdISICTrainpics_preprocessed.npy', Xtrain)\n",
    "np.save('3rdISICTestpics_preprocessed.npy', Xtest)\n",
    "np.save('3rdISICTrainGT_preprocessed.npy', newYtrain)\n",
    "np.save('3rdISICTestGT_preprocessed.npy', newYtest)"
   ]
  }
 ],
 "metadata": {
  "kernelspec": {
   "display_name": "Python 3 (ipykernel)",
   "language": "python",
   "name": "python3"
  },
  "language_info": {
   "codemirror_mode": {
    "name": "ipython",
    "version": 3
   },
   "file_extension": ".py",
   "mimetype": "text/x-python",
   "name": "python",
   "nbconvert_exporter": "python",
   "pygments_lexer": "ipython3",
   "version": "3.9.11"
  }
 },
 "nbformat": 4,
 "nbformat_minor": 5
}
