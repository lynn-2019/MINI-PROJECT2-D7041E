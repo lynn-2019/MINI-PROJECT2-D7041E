{
 "cells": [
  {
   "cell_type": "markdown",
   "id": "a172eaaf-68dd-443a-b268-d054fe5f26f6",
   "metadata": {},
   "source": [
    "## CNN Evaluation"
   ]
  },
  {
   "cell_type": "markdown",
   "id": "d087925e-e8d8-4e71-9489-8d9a68ac9324",
   "metadata": {},
   "source": [
    "## 1. Preprocessing\n",
    "### 1.1. Imports and load ground truth"
   ]
  },
  {
   "cell_type": "code",
   "execution_count": 1,
   "id": "6c17fb2c-ee77-4d5b-90d9-3ee2ed4d2570",
   "metadata": {},
   "outputs": [
    {
     "name": "stdout",
     "output_type": "stream",
     "text": [
      "WARNING:tensorflow:From C:\\Users\\Reintjes\\AppData\\Roaming\\Python\\Python311\\site-packages\\keras\\src\\losses.py:2976: The name tf.losses.sparse_softmax_cross_entropy is deprecated. Please use tf.compat.v1.losses.sparse_softmax_cross_entropy instead.\n",
      "\n"
     ]
    }
   ],
   "source": [
    "import numpy as np\n",
    "import pandas as pd\n",
    "from PIL import Image\n",
    "import os\n",
    "from matplotlib import pyplot as plt\n",
    "import tensorflow as tf\n",
    "from tensorflow.keras.models import Sequential\n",
    "from tensorflow.keras.layers import Conv2D, MaxPooling2D, Flatten, Dense\n",
    "\n"
   ]
  },
  {
   "cell_type": "code",
   "execution_count": 52,
   "id": "acb25adf-5043-4ea5-9fdd-61572e3be7a4",
   "metadata": {},
   "outputs": [],
   "source": [
    "# Load ground truth\n",
    "Ytrain = np.load('TrainGT_preprocessed.npy')\n",
    "Ytest = np.load('TestGT_preprocessed.npy')\n",
    "\n",
    "# Load data\n",
    "Xtrain = np.load('Trainpics_preprocessed.npy')\n",
    "Xtest = np.load('Testpics_preprocessed.npy')"
   ]
  },
  {
   "cell_type": "code",
   "execution_count": 53,
   "id": "4b87dfa4-c2d7-4a62-97d9-2005eb6dc4d7",
   "metadata": {},
   "outputs": [],
   "source": [
    "selected_indices = np.where((Ytrain == 1) | (Ytrain == 2))[0]\n",
    "\n",
    "# Reduziere Xtrain und Ytrain auf die ausgewählten Indizes\n",
    "Xtrain = Xtrain[selected_indices, :]\n",
    "Ytrain = Ytrain[selected_indices]\n"
   ]
  },
  {
   "cell_type": "code",
   "execution_count": 54,
   "id": "1cce6484-1642-444c-9f0a-8b6e9e86ef45",
   "metadata": {},
   "outputs": [],
   "source": [
    "selected_indices = np.where((Ytest == 1) | (Ytest == 2))[0]\n",
    "\n",
    "# Reduziere Xtest und Ytest auf die ausgewählten Indizes\n",
    "Xtest = Xtest[selected_indices, :]\n",
    "Ytest = Ytest[selected_indices]\n",
    "\n"
   ]
  },
  {
   "cell_type": "code",
   "execution_count": 55,
   "id": "41e69fa4-44c0-44b4-bee8-957d1a397ce7",
   "metadata": {},
   "outputs": [],
   "source": [
    "Ytrain=Ytrain-1\n",
    "Ytest=Ytest-1\n",
    "\n"
   ]
  },
  {
   "cell_type": "code",
   "execution_count": 56,
   "id": "ceaeee6b-92ca-4ff4-a19f-323fad94e640",
   "metadata": {},
   "outputs": [
    {
     "name": "stdout",
     "output_type": "stream",
     "text": [
      "(230,)\n",
      "(230, 2)\n"
     ]
    }
   ],
   "source": [
    "num_classes = 2\n",
    "from tensorflow.keras.utils import to_categorical\n",
    "print(Ytrain.shape)\n",
    "Ytrain = to_categorical(Ytrain, num_classes=num_classes)\n",
    "Ytest =  to_categorical(Ytest, num_classes=num_classes)\n",
    "print(Ytrain.shape)"
   ]
  },
  {
   "cell_type": "code",
   "execution_count": 58,
   "id": "a76409ab-0bbb-4f9c-bc3a-aef0a9b26a8d",
   "metadata": {},
   "outputs": [],
   "source": [
    "from sklearn.model_selection import KFold\n",
    "x = 60\n",
    "y = 45\n",
    "Xtrain=Xtrain.reshape(230,y,x,3)\n",
    "Xtest=Xtest.reshape(70,y,x,3)\n",
    "\n",
    "kf = KFold(n_splits=5, shuffle=True, random_state=1)\n",
    "for fold, (train_index, val_index) in enumerate(kf.split(Xtrain, Ytrain)):\n",
    "    X_train_fold, X_val_fold = Xtrain[train_index], Xtrain[val_index]\n",
    "    Y_train_fold, Y_val_fold = Ytrain[train_index], Ytrain[val_index]"
   ]
  },
  {
   "cell_type": "code",
   "execution_count": 59,
   "id": "47b52dca-2cfe-427b-8219-a83211a2061a",
   "metadata": {},
   "outputs": [],
   "source": [
    "# Define your CNN model\n",
    "def create_cnn_model(filters=16, kernel_size=(3, 3), pool_size=(2, 2), dense_units=64, learning_rate=0.001,activation='relu'):\n",
    "    model = Sequential()\n",
    "    model.add(Conv2D(filters, kernel_size, activation='relu', input_shape=(input_shape)))\n",
    "    model.add(MaxPooling2D(pool_size=pool_size))\n",
    "    model.add(Flatten())\n",
    "    model.add(Dense(dense_units, activation=activation))\n",
    "    model.add(Dense(num_classes, activation='softmax'))\n",
    "    \n",
    "    model.compile(optimizer='adam', loss='categorical_crossentropy', metrics=['accuracy'])\n",
    "    \n",
    "    return model"
   ]
  },
  {
   "cell_type": "code",
   "execution_count": 6,
   "id": "dcb31d4c-d8ab-4aa5-b409-28a6f94c2827",
   "metadata": {},
   "outputs": [
    {
     "name": "stdout",
     "output_type": "stream",
     "text": [
      "WARNING:tensorflow:From C:\\Users\\Reintjes\\AppData\\Roaming\\Python\\Python311\\site-packages\\keras\\src\\backend.py:873: The name tf.get_default_graph is deprecated. Please use tf.compat.v1.get_default_graph instead.\n",
      "\n",
      "WARNING:tensorflow:From C:\\Users\\Reintjes\\AppData\\Roaming\\Python\\Python311\\site-packages\\keras\\src\\layers\\pooling\\max_pooling2d.py:161: The name tf.nn.max_pool is deprecated. Please use tf.nn.max_pool2d instead.\n",
      "\n",
      "WARNING:tensorflow:From C:\\Users\\Reintjes\\AppData\\Roaming\\Python\\Python311\\site-packages\\keras\\src\\optimizers\\__init__.py:309: The name tf.train.Optimizer is deprecated. Please use tf.compat.v1.train.Optimizer instead.\n",
      "\n",
      "Epoch 1/10\n",
      "WARNING:tensorflow:From C:\\Users\\Reintjes\\AppData\\Roaming\\Python\\Python311\\site-packages\\keras\\src\\utils\\tf_utils.py:492: The name tf.ragged.RaggedTensorValue is deprecated. Please use tf.compat.v1.ragged.RaggedTensorValue instead.\n",
      "\n",
      "WARNING:tensorflow:From C:\\Users\\Reintjes\\AppData\\Roaming\\Python\\Python311\\site-packages\\keras\\src\\engine\\base_layer_utils.py:384: The name tf.executing_eagerly_outside_functions is deprecated. Please use tf.compat.v1.executing_eagerly_outside_functions instead.\n",
      "\n",
      "21/21 [==============================] - 2s 41ms/step - loss: 2.1551 - accuracy: 0.1398 - val_loss: 1.9458 - val_accuracy: 0.1677\n",
      "Epoch 2/10\n",
      "21/21 [==============================] - 1s 26ms/step - loss: 1.9501 - accuracy: 0.1304 - val_loss: 1.9459 - val_accuracy: 0.1677\n",
      "Epoch 3/10\n",
      "21/21 [==============================] - 0s 24ms/step - loss: 1.9460 - accuracy: 0.1366 - val_loss: 1.9459 - val_accuracy: 0.1677\n",
      "Epoch 4/10\n",
      "21/21 [==============================] - 0s 23ms/step - loss: 1.9459 - accuracy: 0.1366 - val_loss: 1.9461 - val_accuracy: 0.1677\n",
      "Epoch 5/10\n",
      "21/21 [==============================] - 0s 24ms/step - loss: 1.9459 - accuracy: 0.1475 - val_loss: 1.9464 - val_accuracy: 0.1180\n",
      "Epoch 6/10\n",
      "21/21 [==============================] - 0s 23ms/step - loss: 1.9459 - accuracy: 0.1491 - val_loss: 1.9466 - val_accuracy: 0.1180\n",
      "Epoch 7/10\n",
      "21/21 [==============================] - 0s 23ms/step - loss: 1.9460 - accuracy: 0.1491 - val_loss: 1.9467 - val_accuracy: 0.1180\n",
      "Epoch 8/10\n",
      "21/21 [==============================] - 1s 24ms/step - loss: 1.9459 - accuracy: 0.1491 - val_loss: 1.9467 - val_accuracy: 0.1180\n",
      "Epoch 9/10\n",
      "21/21 [==============================] - 0s 24ms/step - loss: 1.9458 - accuracy: 0.1491 - val_loss: 1.9469 - val_accuracy: 0.1180\n",
      "Epoch 10/10\n",
      "21/21 [==============================] - 0s 23ms/step - loss: 1.9458 - accuracy: 0.1491 - val_loss: 1.9471 - val_accuracy: 0.1180\n"
     ]
    },
    {
     "data": {
      "text/plain": [
       "<keras.src.callbacks.History at 0x18a315f23d0>"
      ]
     },
     "execution_count": 6,
     "metadata": {},
     "output_type": "execute_result"
    }
   ],
   "source": [
    "\n",
    "\n",
    "# Create CNN model\n",
    "input_shape = (y, x, 3)  # Adjust these based on your data\n",
    "num_classes = Ytrain.shape[1]  # Adjust based on your problem\n",
    "\n",
    "cnn_model = create_cnn_model()\n",
    "\n",
    "# Fit the model (assuming Xtrain and Ytrain are your training data)\n",
    "cnn_model.fit(X_train_fold, Y_train_fold,epochs=10,validation_data=(X_val_fold, Y_val_fold))\n",
    "\n",
    "# Continue with the rest of your code...\n"
   ]
  },
  {
   "cell_type": "code",
   "execution_count": 60,
   "id": "0e23998c-9a0f-4ce4-a978-467adfcca3e4",
   "metadata": {},
   "outputs": [],
   "source": [
    "from tensorflow import keras\n",
    "import keras_tuner"
   ]
  },
  {
   "cell_type": "code",
   "execution_count": 61,
   "id": "378d7210-73b1-4182-a70b-43746dabe883",
   "metadata": {},
   "outputs": [
    {
     "data": {
      "text/plain": [
       "<keras.src.engine.sequential.Sequential at 0x18b73b1f550>"
      ]
     },
     "execution_count": 61,
     "metadata": {},
     "output_type": "execute_result"
    }
   ],
   "source": [
    "\n",
    "\n",
    "def build_model(hp):\n",
    "    units = hp.Int(\"units\", min_value=32, max_value=512, step=32)\n",
    "    activation = hp.Choice(\"activation\", [\"relu\", \"tanh\"])\n",
    "    lr = hp.Float(\"lr\", min_value=1e-4, max_value=1e-2, sampling=\"log\")\n",
    "    filters = hp.Int(\"filters\", min_value=8, max_value=64, step=8)\n",
    "\n",
    "    \n",
    "    # Define kernel_size as a tuple of integers\n",
    "    kernel_size_1 = hp.Int(\"kernel_size_1\", min_value=2, max_value=5)\n",
    "    kernel_size_2 = hp.Int(\"kernel_size_2\", min_value=2, max_value=5)\n",
    "    \n",
    "    # Define pool_size as a tuple of integers\n",
    "    pool_size_1 = hp.Int(\"pool_size_1\", min_value=2, max_value=4)\n",
    "    pool_size_2 = hp.Int(\"pool_size_2\", min_value=2, max_value=4)\n",
    "    # call existing model-building code with the hyperparameter values.\n",
    "    model=create_cnn_model(filters=filters, kernel_size=(kernel_size_1, kernel_size_2), pool_size=(pool_size_1, pool_size_2), dense_units=units, learning_rate=lr,activation=activation)\n",
    "    return model\n",
    "\n",
    "\n",
    "build_model(keras_tuner.HyperParameters())\n"
   ]
  },
  {
   "cell_type": "code",
   "execution_count": 62,
   "id": "56a5fe81-1e94-4c47-b76f-ba439806de96",
   "metadata": {},
   "outputs": [
    {
     "name": "stdout",
     "output_type": "stream",
     "text": [
      "Trial 30 Complete [00h 00m 12s]\n",
      "val_accuracy: 0.54347825050354\n",
      "\n",
      "Best val_accuracy So Far: 0.8260869383811951\n",
      "Total elapsed time: 00h 07m 39s\n"
     ]
    }
   ],
   "source": [
    "tuner = keras_tuner.RandomSearch(\n",
    "    hypermodel=build_model,\n",
    "    objective=\"val_accuracy\",\n",
    "    max_trials=30,\n",
    "    executions_per_trial=2,\n",
    "    overwrite=True,\n",
    "    directory=\"Hyper Parameter Tuning\",\n",
    "    project_name=\"CNN\",\n",
    ")\n",
    "tuner.search(X_train_fold, Y_train_fold, epochs=10, validation_data=(X_val_fold, Y_val_fold))"
   ]
  },
  {
   "cell_type": "code",
   "execution_count": 69,
   "id": "2fc3f323-8d9e-476f-b059-89145df967b4",
   "metadata": {},
   "outputs": [],
   "source": [
    "bestmod=tuner.get_best_models(num_models=1)[0]"
   ]
  },
  {
   "cell_type": "code",
   "execution_count": 70,
   "id": "72d274cc-45e1-42d4-a974-46ff9ffa91ca",
   "metadata": {},
   "outputs": [
    {
     "name": "stdout",
     "output_type": "stream",
     "text": [
      "Epoch 1/50\n",
      "6/6 [==============================] - 3s 124ms/step - loss: 0.4450 - accuracy: 0.8315 - val_loss: 0.5645 - val_accuracy: 0.7609\n",
      "Epoch 2/50\n",
      "6/6 [==============================] - 0s 47ms/step - loss: 0.5242 - accuracy: 0.7391 - val_loss: 0.4897 - val_accuracy: 0.8043\n",
      "Epoch 3/50\n",
      "6/6 [==============================] - 0s 41ms/step - loss: 0.4220 - accuracy: 0.8696 - val_loss: 0.4992 - val_accuracy: 0.8043\n",
      "Epoch 4/50\n",
      "6/6 [==============================] - 0s 40ms/step - loss: 0.4084 - accuracy: 0.8424 - val_loss: 0.5420 - val_accuracy: 0.7609\n",
      "Epoch 5/50\n",
      "6/6 [==============================] - 0s 45ms/step - loss: 0.3987 - accuracy: 0.8315 - val_loss: 0.4673 - val_accuracy: 0.8043\n",
      "Epoch 6/50\n",
      "6/6 [==============================] - 0s 41ms/step - loss: 0.3798 - accuracy: 0.8315 - val_loss: 0.4590 - val_accuracy: 0.8261\n",
      "Epoch 7/50\n",
      "6/6 [==============================] - 0s 44ms/step - loss: 0.3777 - accuracy: 0.8424 - val_loss: 0.4533 - val_accuracy: 0.8043\n",
      "Epoch 8/50\n",
      "6/6 [==============================] - 0s 43ms/step - loss: 0.3594 - accuracy: 0.8370 - val_loss: 0.4858 - val_accuracy: 0.8043\n",
      "Epoch 9/50\n",
      "6/6 [==============================] - 0s 44ms/step - loss: 0.3972 - accuracy: 0.8207 - val_loss: 0.4542 - val_accuracy: 0.7826\n",
      "Epoch 10/50\n",
      "6/6 [==============================] - 0s 44ms/step - loss: 0.4512 - accuracy: 0.7663 - val_loss: 0.4704 - val_accuracy: 0.7826\n",
      "Epoch 11/50\n",
      "6/6 [==============================] - 0s 44ms/step - loss: 0.3679 - accuracy: 0.8478 - val_loss: 0.5058 - val_accuracy: 0.7174\n",
      "Epoch 12/50\n",
      "6/6 [==============================] - 0s 41ms/step - loss: 0.3508 - accuracy: 0.8478 - val_loss: 0.4432 - val_accuracy: 0.8261\n",
      "Epoch 13/50\n",
      "6/6 [==============================] - 0s 45ms/step - loss: 0.3503 - accuracy: 0.8424 - val_loss: 0.4593 - val_accuracy: 0.7826\n",
      "Epoch 14/50\n",
      "6/6 [==============================] - 0s 44ms/step - loss: 0.4046 - accuracy: 0.8207 - val_loss: 0.4500 - val_accuracy: 0.7826\n",
      "Epoch 15/50\n",
      "6/6 [==============================] - 0s 44ms/step - loss: 0.3329 - accuracy: 0.8750 - val_loss: 0.4637 - val_accuracy: 0.7826\n",
      "Epoch 16/50\n",
      "6/6 [==============================] - 0s 45ms/step - loss: 0.3245 - accuracy: 0.8533 - val_loss: 0.5559 - val_accuracy: 0.8043\n",
      "Epoch 17/50\n",
      "6/6 [==============================] - 0s 42ms/step - loss: 0.3680 - accuracy: 0.8424 - val_loss: 0.4700 - val_accuracy: 0.7826\n",
      "Epoch 18/50\n",
      "6/6 [==============================] - 0s 42ms/step - loss: 0.3597 - accuracy: 0.8261 - val_loss: 0.5979 - val_accuracy: 0.7609\n",
      "Epoch 19/50\n",
      "6/6 [==============================] - 0s 42ms/step - loss: 0.4205 - accuracy: 0.8152 - val_loss: 0.5387 - val_accuracy: 0.8043\n",
      "Epoch 20/50\n",
      "6/6 [==============================] - 0s 43ms/step - loss: 0.3225 - accuracy: 0.8424 - val_loss: 0.4473 - val_accuracy: 0.8043\n",
      "Epoch 21/50\n",
      "6/6 [==============================] - 0s 41ms/step - loss: 0.3896 - accuracy: 0.8424 - val_loss: 0.5599 - val_accuracy: 0.6522\n",
      "Epoch 22/50\n",
      "6/6 [==============================] - 0s 41ms/step - loss: 0.3627 - accuracy: 0.8478 - val_loss: 0.5197 - val_accuracy: 0.7391\n",
      "Epoch 23/50\n",
      "6/6 [==============================] - 0s 41ms/step - loss: 0.3574 - accuracy: 0.8315 - val_loss: 0.4724 - val_accuracy: 0.7609\n",
      "Epoch 24/50\n",
      "6/6 [==============================] - 0s 42ms/step - loss: 0.3338 - accuracy: 0.8533 - val_loss: 0.5288 - val_accuracy: 0.8043\n",
      "Epoch 25/50\n",
      "6/6 [==============================] - 0s 51ms/step - loss: 0.3328 - accuracy: 0.8424 - val_loss: 0.5201 - val_accuracy: 0.8043\n",
      "Epoch 26/50\n",
      "6/6 [==============================] - 0s 51ms/step - loss: 0.3098 - accuracy: 0.8750 - val_loss: 0.5171 - val_accuracy: 0.8043\n",
      "Epoch 27/50\n",
      "6/6 [==============================] - 0s 45ms/step - loss: 0.3092 - accuracy: 0.8641 - val_loss: 0.4869 - val_accuracy: 0.7174\n",
      "Epoch 28/50\n",
      "6/6 [==============================] - 0s 42ms/step - loss: 0.3287 - accuracy: 0.8478 - val_loss: 0.7572 - val_accuracy: 0.4783\n",
      "Epoch 29/50\n",
      "6/6 [==============================] - 0s 39ms/step - loss: 0.4513 - accuracy: 0.7880 - val_loss: 0.4460 - val_accuracy: 0.8261\n",
      "Epoch 30/50\n",
      "6/6 [==============================] - 0s 41ms/step - loss: 0.3301 - accuracy: 0.8478 - val_loss: 0.6013 - val_accuracy: 0.7609\n",
      "Epoch 31/50\n",
      "6/6 [==============================] - 0s 48ms/step - loss: 0.2961 - accuracy: 0.8913 - val_loss: 0.4630 - val_accuracy: 0.7826\n",
      "Epoch 32/50\n",
      "6/6 [==============================] - 0s 54ms/step - loss: 0.2974 - accuracy: 0.8696 - val_loss: 0.4492 - val_accuracy: 0.8043\n",
      "Epoch 33/50\n",
      "6/6 [==============================] - 0s 49ms/step - loss: 0.2665 - accuracy: 0.9022 - val_loss: 0.4569 - val_accuracy: 0.7826\n",
      "Epoch 34/50\n",
      "6/6 [==============================] - 0s 41ms/step - loss: 0.2675 - accuracy: 0.9076 - val_loss: 0.4650 - val_accuracy: 0.7826\n",
      "Epoch 35/50\n",
      "6/6 [==============================] - 0s 48ms/step - loss: 0.2684 - accuracy: 0.8641 - val_loss: 0.4938 - val_accuracy: 0.8043\n",
      "Epoch 36/50\n",
      "6/6 [==============================] - 0s 56ms/step - loss: 0.2614 - accuracy: 0.8967 - val_loss: 0.4482 - val_accuracy: 0.7826\n",
      "Epoch 37/50\n",
      "6/6 [==============================] - 0s 51ms/step - loss: 0.2780 - accuracy: 0.8750 - val_loss: 0.4816 - val_accuracy: 0.7391\n",
      "Epoch 38/50\n",
      "6/6 [==============================] - 0s 47ms/step - loss: 0.2589 - accuracy: 0.8967 - val_loss: 0.4621 - val_accuracy: 0.7826\n",
      "Epoch 39/50\n",
      "6/6 [==============================] - 0s 46ms/step - loss: 0.2451 - accuracy: 0.8804 - val_loss: 0.6515 - val_accuracy: 0.5652\n",
      "Epoch 40/50\n",
      "6/6 [==============================] - 0s 44ms/step - loss: 0.3265 - accuracy: 0.8424 - val_loss: 0.4601 - val_accuracy: 0.8261\n",
      "Epoch 41/50\n",
      "6/6 [==============================] - 0s 45ms/step - loss: 0.2795 - accuracy: 0.8587 - val_loss: 0.4561 - val_accuracy: 0.7826\n",
      "Epoch 42/50\n",
      "6/6 [==============================] - 0s 44ms/step - loss: 0.2786 - accuracy: 0.8696 - val_loss: 0.4600 - val_accuracy: 0.8043\n",
      "Epoch 43/50\n",
      "6/6 [==============================] - 0s 53ms/step - loss: 0.2417 - accuracy: 0.9239 - val_loss: 0.4644 - val_accuracy: 0.8261\n",
      "Epoch 44/50\n",
      "6/6 [==============================] - 0s 54ms/step - loss: 0.2215 - accuracy: 0.9130 - val_loss: 0.4592 - val_accuracy: 0.7826\n",
      "Epoch 45/50\n",
      "6/6 [==============================] - 0s 48ms/step - loss: 0.2423 - accuracy: 0.9022 - val_loss: 0.4612 - val_accuracy: 0.7826\n",
      "Epoch 46/50\n",
      "6/6 [==============================] - 0s 44ms/step - loss: 0.2431 - accuracy: 0.8804 - val_loss: 0.4611 - val_accuracy: 0.8043\n",
      "Epoch 47/50\n",
      "6/6 [==============================] - 0s 46ms/step - loss: 0.2317 - accuracy: 0.9022 - val_loss: 0.4682 - val_accuracy: 0.8261\n",
      "Epoch 48/50\n",
      "6/6 [==============================] - 0s 55ms/step - loss: 0.2144 - accuracy: 0.9185 - val_loss: 0.5445 - val_accuracy: 0.8043\n",
      "Epoch 49/50\n",
      "6/6 [==============================] - 0s 51ms/step - loss: 0.2135 - accuracy: 0.9185 - val_loss: 0.4718 - val_accuracy: 0.7826\n",
      "Epoch 50/50\n",
      "6/6 [==============================] - 0s 48ms/step - loss: 0.2005 - accuracy: 0.9185 - val_loss: 0.4725 - val_accuracy: 0.7826\n"
     ]
    },
    {
     "data": {
      "text/plain": [
       "<keras.src.callbacks.History at 0x18ca2b872d0>"
      ]
     },
     "execution_count": 70,
     "metadata": {},
     "output_type": "execute_result"
    }
   ],
   "source": [
    "bestmod.fit(X_train_fold, Y_train_fold,epochs=50,validation_data=(X_val_fold, Y_val_fold))\n"
   ]
  },
  {
   "cell_type": "code",
   "execution_count": 71,
   "id": "9fcc256d-7673-4a29-918e-55b9bcec8aa4",
   "metadata": {},
   "outputs": [
    {
     "name": "stdout",
     "output_type": "stream",
     "text": [
      "3/3 - 0s - loss: 0.4374 - accuracy: 0.8286 - 80ms/epoch - 27ms/step\n",
      "0.8285714387893677\n"
     ]
    }
   ],
   "source": [
    "test_loss, test_acc = bestmod.evaluate(Xtest,  Ytest, verbose=2)\n",
    "print(test_acc)"
   ]
  },
  {
   "cell_type": "code",
   "execution_count": 72,
   "id": "f16b978d-594f-4fb0-b8c3-307136c56cc3",
   "metadata": {},
   "outputs": [
    {
     "name": "stdout",
     "output_type": "stream",
     "text": [
      "3/3 [==============================] - 0s 12ms/step\n"
     ]
    }
   ],
   "source": [
    "Ytest_pred_probabilities=bestmod.predict(Xtest)"
   ]
  },
  {
   "cell_type": "code",
   "execution_count": 77,
   "id": "96d973da-522a-4a78-91e9-d7c4926d7b1c",
   "metadata": {},
   "outputs": [
    {
     "name": "stdout",
     "output_type": "stream",
     "text": [
      "Unique values in Ytest_true: [0. 1.]\n",
      "Unique values in Ytest_pred: [0 1]\n",
      "Shape of Ytest_true: (70,)\n",
      "Shape of Ytest_pred: (70,)\n",
      "F1  [0.84615385 0.80645161] \n",
      "\n"
     ]
    },
    {
     "data": {
      "image/png": "[encoded data removed]",
      "text/plain": [
       "<Figure size 800x600 with 2 Axes>"
      ]
     },
     "metadata": {},
     "output_type": "display_data"
    }
   ],
   "source": [
    "from sklearn.metrics import confusion_matrix, f1_score\n",
    "import seaborn as sns\n",
    "# Konvertiere die Wahrscheinlichkeiten in Klassenindizes\n",
    "Ytest_pred = np.argmax(Ytest_pred_probabilities, axis=1)\n",
    "# Drucke einzigartige Werte in Ytest_true und Ytest_pred\n",
    "print(\"Unique values in Ytest_true:\", np.unique(Ytest))\n",
    "print(\"Unique values in Ytest_pred:\", np.unique(Ytest_pred))\n",
    "\n",
    "# Drucke die Formen von Ytest_true und Ytest_pred\n",
    "\n",
    "\n",
    "# Berechne die Confusion Matrix\n",
    "Ytest_true=np.argmax(Ytest, axis=1)\n",
    "\n",
    "print(\"Shape of Ytest_true:\", Ytest_true.shape)\n",
    "print(\"Shape of Ytest_pred:\", Ytest_pred.shape)\n",
    "\n",
    "f1 = f1_score(Ytest_true, Ytest_pred, average=None)\n",
    "print(\"F1 \",f1,\"\\n\")\n",
    "\n",
    "conf_matrix = confusion_matrix(Ytest_true, Ytest_pred)\n",
    "# Plotte die Confusion Matrix als Heatmap\n",
    "classes = [\"MEL\", \"NV\"]\n",
    "\n",
    "plt.figure(figsize=(8, 6))\n",
    "sns.heatmap(conf_matrix, annot=True, fmt='g', cmap='Blues', xticklabels=classes, yticklabels=classes)\n",
    "plt.xlabel('Predicted')\n",
    "plt.ylabel('True')\n",
    "plt.title('Confusion Matrix')\n",
    "plt.show()"
   ]
  },
  {
   "cell_type": "code",
   "execution_count": null,
   "id": "e8baa318-ddf6-4caf-9e78-af29d315bc7e",
   "metadata": {},
   "outputs": [],
   "source": [
    "conf_matrix"
   ]
  }
 ],
 "metadata": {
  "kernelspec": {
   "display_name": "Python 3 (ipykernel)",
   "language": "python",
   "name": "python3"
  },
  "language_info": {
   "codemirror_mode": {
    "name": "ipython",
    "version": 3
   },
   "file_extension": ".py",
   "mimetype": "text/x-python",
   "name": "python",
   "nbconvert_exporter": "python",
   "pygments_lexer": "ipython3",
   "version": "3.11.5"
  }
 },
 "nbformat": 4,
 "nbformat_minor": 5
}
